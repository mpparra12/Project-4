{
  "cells": [
    {
      "cell_type": "markdown",
      "metadata": {
        "id": "0yITYtmiW_fs"
      },
      "source": [
        "### **Machine Learning Models By Md Yousuf Reja, Maria Paula Parra, Thanh Le**"
      ]
    },
    {
      "cell_type": "markdown",
      "metadata": {
        "id": "EspYn5L6XJvi"
      },
      "source": [
        "##**Import libraries**"
      ]
    },
    {
      "cell_type": "code",
      "execution_count": null,
      "metadata": {
        "id": "A80kiWyB1Gzn"
      },
      "outputs": [],
      "source": [
        "# Initial imports\n",
        "import pandas as pd\n",
        "import tensorflow as tf\n",
        "import numpy as np\n",
        "import seaborn as sns\n",
        "import matplotlib.pyplot as plt\n",
        "from pathlib import Path\n",
        "from sklearn.linear_model import LogisticRegression\n",
        "from sklearn.svm import SVC\n",
        "from sklearn.ensemble import RandomForestClassifier\n",
        "from sklearn.preprocessing import StandardScaler\n",
        "from sklearn.model_selection import train_test_split\n",
        "from sklearn.metrics import accuracy_score, precision_score, recall_score, f1_score\n",
        "from sklearn.metrics import classification_report\n",
        "\n",
        "# for plots to appear inside the notebook\n",
        "%matplotlib inline\n"
      ]
    },
    {
      "cell_type": "markdown",
      "metadata": {
        "id": "B_qhtTu7XZe9"
      },
      "source": [
        "##**Loading The Data**"
      ]
    },
    {
      "cell_type": "code",
      "execution_count": null,
      "metadata": {
        "colab": {
          "base_uri": "https://localhost:8080/",
          "height": 226
        },
        "id": "_Ajq_TX11VX_",
        "outputId": "83905a88-2e17-427f-c026-f0d268898a76"
      },
      "outputs": [
        {
          "data": {
            "text/html": [
              "\n",
              "  <div id=\"df-4eb9b191-1c5e-4d3f-839a-0d37259cc016\" class=\"colab-df-container\">\n",
              "    <div>\n",
              "<style scoped>\n",
              "    .dataframe tbody tr th:only-of-type {\n",
              "        vertical-align: middle;\n",
              "    }\n",
              "\n",
              "    .dataframe tbody tr th {\n",
              "        vertical-align: top;\n",
              "    }\n",
              "\n",
              "    .dataframe thead th {\n",
              "        text-align: right;\n",
              "    }\n",
              "</style>\n",
              "<table border=\"1\" class=\"dataframe\">\n",
              "  <thead>\n",
              "    <tr style=\"text-align: right;\">\n",
              "      <th></th>\n",
              "      <th>Age</th>\n",
              "      <th>Sex</th>\n",
              "      <th>ChestPainType</th>\n",
              "      <th>RestingBP</th>\n",
              "      <th>Cholesterol</th>\n",
              "      <th>FastingBS</th>\n",
              "      <th>RestingECG</th>\n",
              "      <th>MaxHR</th>\n",
              "      <th>ExerciseAngina</th>\n",
              "      <th>Oldpeak</th>\n",
              "      <th>ST_Slope</th>\n",
              "      <th>HeartDisease</th>\n",
              "    </tr>\n",
              "  </thead>\n",
              "  <tbody>\n",
              "    <tr>\n",
              "      <th>0</th>\n",
              "      <td>40</td>\n",
              "      <td>M</td>\n",
              "      <td>ATA</td>\n",
              "      <td>140</td>\n",
              "      <td>289</td>\n",
              "      <td>0</td>\n",
              "      <td>Normal</td>\n",
              "      <td>172</td>\n",
              "      <td>N</td>\n",
              "      <td>0.0</td>\n",
              "      <td>Up</td>\n",
              "      <td>0</td>\n",
              "    </tr>\n",
              "    <tr>\n",
              "      <th>1</th>\n",
              "      <td>49</td>\n",
              "      <td>F</td>\n",
              "      <td>NAP</td>\n",
              "      <td>160</td>\n",
              "      <td>180</td>\n",
              "      <td>0</td>\n",
              "      <td>Normal</td>\n",
              "      <td>156</td>\n",
              "      <td>N</td>\n",
              "      <td>1.0</td>\n",
              "      <td>Flat</td>\n",
              "      <td>1</td>\n",
              "    </tr>\n",
              "    <tr>\n",
              "      <th>2</th>\n",
              "      <td>37</td>\n",
              "      <td>M</td>\n",
              "      <td>ATA</td>\n",
              "      <td>130</td>\n",
              "      <td>283</td>\n",
              "      <td>0</td>\n",
              "      <td>ST</td>\n",
              "      <td>98</td>\n",
              "      <td>N</td>\n",
              "      <td>0.0</td>\n",
              "      <td>Up</td>\n",
              "      <td>0</td>\n",
              "    </tr>\n",
              "    <tr>\n",
              "      <th>3</th>\n",
              "      <td>48</td>\n",
              "      <td>F</td>\n",
              "      <td>ASY</td>\n",
              "      <td>138</td>\n",
              "      <td>214</td>\n",
              "      <td>0</td>\n",
              "      <td>Normal</td>\n",
              "      <td>108</td>\n",
              "      <td>Y</td>\n",
              "      <td>1.5</td>\n",
              "      <td>Flat</td>\n",
              "      <td>1</td>\n",
              "    </tr>\n",
              "    <tr>\n",
              "      <th>4</th>\n",
              "      <td>54</td>\n",
              "      <td>M</td>\n",
              "      <td>NAP</td>\n",
              "      <td>150</td>\n",
              "      <td>195</td>\n",
              "      <td>0</td>\n",
              "      <td>Normal</td>\n",
              "      <td>122</td>\n",
              "      <td>N</td>\n",
              "      <td>0.0</td>\n",
              "      <td>Up</td>\n",
              "      <td>0</td>\n",
              "    </tr>\n",
              "  </tbody>\n",
              "</table>\n",
              "</div>\n",
              "    <div class=\"colab-df-buttons\">\n",
              "\n",
              "  <div class=\"colab-df-container\">\n",
              "    <button class=\"colab-df-convert\" onclick=\"convertToInteractive('df-4eb9b191-1c5e-4d3f-839a-0d37259cc016')\"\n",
              "            title=\"Convert this dataframe to an interactive table.\"\n",
              "            style=\"display:none;\">\n",
              "\n",
              "  <svg xmlns=\"http://www.w3.org/2000/svg\" height=\"24px\" viewBox=\"0 -960 960 960\">\n",
              "    <path d=\"M120-120v-720h720v720H120Zm60-500h600v-160H180v160Zm220 220h160v-160H400v160Zm0 220h160v-160H400v160ZM180-400h160v-160H180v160Zm440 0h160v-160H620v160ZM180-180h160v-160H180v160Zm440 0h160v-160H620v160Z\"/>\n",
              "  </svg>\n",
              "    </button>\n",
              "\n",
              "  <style>\n",
              "    .colab-df-container {\n",
              "      display:flex;\n",
              "      gap: 12px;\n",
              "    }\n",
              "\n",
              "    .colab-df-convert {\n",
              "      background-color: #E8F0FE;\n",
              "      border: none;\n",
              "      border-radius: 50%;\n",
              "      cursor: pointer;\n",
              "      display: none;\n",
              "      fill: #1967D2;\n",
              "      height: 32px;\n",
              "      padding: 0 0 0 0;\n",
              "      width: 32px;\n",
              "    }\n",
              "\n",
              "    .colab-df-convert:hover {\n",
              "      background-color: #E2EBFA;\n",
              "      box-shadow: 0px 1px 2px rgba(60, 64, 67, 0.3), 0px 1px 3px 1px rgba(60, 64, 67, 0.15);\n",
              "      fill: #174EA6;\n",
              "    }\n",
              "\n",
              "    .colab-df-buttons div {\n",
              "      margin-bottom: 4px;\n",
              "    }\n",
              "\n",
              "    [theme=dark] .colab-df-convert {\n",
              "      background-color: #3B4455;\n",
              "      fill: #D2E3FC;\n",
              "    }\n",
              "\n",
              "    [theme=dark] .colab-df-convert:hover {\n",
              "      background-color: #434B5C;\n",
              "      box-shadow: 0px 1px 3px 1px rgba(0, 0, 0, 0.15);\n",
              "      filter: drop-shadow(0px 1px 2px rgba(0, 0, 0, 0.3));\n",
              "      fill: #FFFFFF;\n",
              "    }\n",
              "  </style>\n",
              "\n",
              "    <script>\n",
              "      const buttonEl =\n",
              "        document.querySelector('#df-4eb9b191-1c5e-4d3f-839a-0d37259cc016 button.colab-df-convert');\n",
              "      buttonEl.style.display =\n",
              "        google.colab.kernel.accessAllowed ? 'block' : 'none';\n",
              "\n",
              "      async function convertToInteractive(key) {\n",
              "        const element = document.querySelector('#df-4eb9b191-1c5e-4d3f-839a-0d37259cc016');\n",
              "        const dataTable =\n",
              "          await google.colab.kernel.invokeFunction('convertToInteractive',\n",
              "                                                    [key], {});\n",
              "        if (!dataTable) return;\n",
              "\n",
              "        const docLinkHtml = 'Like what you see? Visit the ' +\n",
              "          '<a target=\"_blank\" href=https://colab.research.google.com/notebooks/data_table.ipynb>data table notebook</a>'\n",
              "          + ' to learn more about interactive tables.';\n",
              "        element.innerHTML = '';\n",
              "        dataTable['output_type'] = 'display_data';\n",
              "        await google.colab.output.renderOutput(dataTable, element);\n",
              "        const docLink = document.createElement('div');\n",
              "        docLink.innerHTML = docLinkHtml;\n",
              "        element.appendChild(docLink);\n",
              "      }\n",
              "    </script>\n",
              "  </div>\n",
              "\n",
              "\n",
              "<div id=\"df-ed9b37d3-8216-4136-8bcf-a92dec122447\">\n",
              "  <button class=\"colab-df-quickchart\" onclick=\"quickchart('df-ed9b37d3-8216-4136-8bcf-a92dec122447')\"\n",
              "            title=\"Suggest charts\"\n",
              "            style=\"display:none;\">\n",
              "\n",
              "<svg xmlns=\"http://www.w3.org/2000/svg\" height=\"24px\"viewBox=\"0 0 24 24\"\n",
              "     width=\"24px\">\n",
              "    <g>\n",
              "        <path d=\"M19 3H5c-1.1 0-2 .9-2 2v14c0 1.1.9 2 2 2h14c1.1 0 2-.9 2-2V5c0-1.1-.9-2-2-2zM9 17H7v-7h2v7zm4 0h-2V7h2v10zm4 0h-2v-4h2v4z\"/>\n",
              "    </g>\n",
              "</svg>\n",
              "  </button>\n",
              "\n",
              "<style>\n",
              "  .colab-df-quickchart {\n",
              "      --bg-color: #E8F0FE;\n",
              "      --fill-color: #1967D2;\n",
              "      --hover-bg-color: #E2EBFA;\n",
              "      --hover-fill-color: #174EA6;\n",
              "      --disabled-fill-color: #AAA;\n",
              "      --disabled-bg-color: #DDD;\n",
              "  }\n",
              "\n",
              "  [theme=dark] .colab-df-quickchart {\n",
              "      --bg-color: #3B4455;\n",
              "      --fill-color: #D2E3FC;\n",
              "      --hover-bg-color: #434B5C;\n",
              "      --hover-fill-color: #FFFFFF;\n",
              "      --disabled-bg-color: #3B4455;\n",
              "      --disabled-fill-color: #666;\n",
              "  }\n",
              "\n",
              "  .colab-df-quickchart {\n",
              "    background-color: var(--bg-color);\n",
              "    border: none;\n",
              "    border-radius: 50%;\n",
              "    cursor: pointer;\n",
              "    display: none;\n",
              "    fill: var(--fill-color);\n",
              "    height: 32px;\n",
              "    padding: 0;\n",
              "    width: 32px;\n",
              "  }\n",
              "\n",
              "  .colab-df-quickchart:hover {\n",
              "    background-color: var(--hover-bg-color);\n",
              "    box-shadow: 0 1px 2px rgba(60, 64, 67, 0.3), 0 1px 3px 1px rgba(60, 64, 67, 0.15);\n",
              "    fill: var(--button-hover-fill-color);\n",
              "  }\n",
              "\n",
              "  .colab-df-quickchart-complete:disabled,\n",
              "  .colab-df-quickchart-complete:disabled:hover {\n",
              "    background-color: var(--disabled-bg-color);\n",
              "    fill: var(--disabled-fill-color);\n",
              "    box-shadow: none;\n",
              "  }\n",
              "\n",
              "  .colab-df-spinner {\n",
              "    border: 2px solid var(--fill-color);\n",
              "    border-color: transparent;\n",
              "    border-bottom-color: var(--fill-color);\n",
              "    animation:\n",
              "      spin 1s steps(1) infinite;\n",
              "  }\n",
              "\n",
              "  @keyframes spin {\n",
              "    0% {\n",
              "      border-color: transparent;\n",
              "      border-bottom-color: var(--fill-color);\n",
              "      border-left-color: var(--fill-color);\n",
              "    }\n",
              "    20% {\n",
              "      border-color: transparent;\n",
              "      border-left-color: var(--fill-color);\n",
              "      border-top-color: var(--fill-color);\n",
              "    }\n",
              "    30% {\n",
              "      border-color: transparent;\n",
              "      border-left-color: var(--fill-color);\n",
              "      border-top-color: var(--fill-color);\n",
              "      border-right-color: var(--fill-color);\n",
              "    }\n",
              "    40% {\n",
              "      border-color: transparent;\n",
              "      border-right-color: var(--fill-color);\n",
              "      border-top-color: var(--fill-color);\n",
              "    }\n",
              "    60% {\n",
              "      border-color: transparent;\n",
              "      border-right-color: var(--fill-color);\n",
              "    }\n",
              "    80% {\n",
              "      border-color: transparent;\n",
              "      border-right-color: var(--fill-color);\n",
              "      border-bottom-color: var(--fill-color);\n",
              "    }\n",
              "    90% {\n",
              "      border-color: transparent;\n",
              "      border-bottom-color: var(--fill-color);\n",
              "    }\n",
              "  }\n",
              "</style>\n",
              "\n",
              "  <script>\n",
              "    async function quickchart(key) {\n",
              "      const quickchartButtonEl =\n",
              "        document.querySelector('#' + key + ' button');\n",
              "      quickchartButtonEl.disabled = true;  // To prevent multiple clicks.\n",
              "      quickchartButtonEl.classList.add('colab-df-spinner');\n",
              "      try {\n",
              "        const charts = await google.colab.kernel.invokeFunction(\n",
              "            'suggestCharts', [key], {});\n",
              "      } catch (error) {\n",
              "        console.error('Error during call to suggestCharts:', error);\n",
              "      }\n",
              "      quickchartButtonEl.classList.remove('colab-df-spinner');\n",
              "      quickchartButtonEl.classList.add('colab-df-quickchart-complete');\n",
              "    }\n",
              "    (() => {\n",
              "      let quickchartButtonEl =\n",
              "        document.querySelector('#df-ed9b37d3-8216-4136-8bcf-a92dec122447 button');\n",
              "      quickchartButtonEl.style.display =\n",
              "        google.colab.kernel.accessAllowed ? 'block' : 'none';\n",
              "    })();\n",
              "  </script>\n",
              "</div>\n",
              "    </div>\n",
              "  </div>\n"
            ],
            "text/plain": [
              "   Age Sex ChestPainType  RestingBP  Cholesterol  FastingBS RestingECG  MaxHR  \\\n",
              "0   40   M           ATA        140          289          0     Normal    172   \n",
              "1   49   F           NAP        160          180          0     Normal    156   \n",
              "2   37   M           ATA        130          283          0         ST     98   \n",
              "3   48   F           ASY        138          214          0     Normal    108   \n",
              "4   54   M           NAP        150          195          0     Normal    122   \n",
              "\n",
              "  ExerciseAngina  Oldpeak ST_Slope  HeartDisease  \n",
              "0              N      0.0       Up             0  \n",
              "1              N      1.0     Flat             1  \n",
              "2              N      0.0       Up             0  \n",
              "3              Y      1.5     Flat             1  \n",
              "4              N      0.0       Up             0  "
            ]
          },
          "execution_count": 124,
          "metadata": {},
          "output_type": "execute_result"
        }
      ],
      "source": [
        "url = \"https://raw.githubusercontent.com/leedthanh/api/main/heart.csv\"\n",
        "\n",
        "df = pd.read_csv(url)\n",
        "\n",
        "df.head()\n"
      ]
    },
    {
      "cell_type": "markdown",
      "metadata": {
        "id": "e20Ia0xuW-nI"
      },
      "source": [
        "# **Data Contains**"
      ]
    },
    {
      "cell_type": "markdown",
      "metadata": {
        "id": "SAtnOsKhK_d5"
      },
      "source": [
        "Data contains;\n",
        "\n",
        "\n",
        "1.   Age: age in years\n",
        "\n",
        "2.   Sex: 1 = male; 0 = female\n",
        "\n",
        "3. ChestPainType:\n",
        "TA : Typical Angina\n",
        "ATA : Atypical Angina\n",
        "NAP : Non-Anginal Pain,\n",
        "ASY : Asymptonic\n",
        "\n",
        "4. RestingBP: resting blood pressure [mmHg]\n",
        "\n",
        "5. Cholesterol:  serum cholesterol [mm/dl]\n",
        "\n",
        "6. FastingBS:  fasting blood sugar\n",
        "1 : if FastingBS > 120 mg/dl\n",
        "0 : otherwise\n",
        "\n",
        "7. RestingECG: resting electrocardiographic results\n",
        "Normal : Normal\n",
        "ST : having ST-T wave abnormality (T wave inversions and/or ST elevation or depression of > 0.05\n",
        "\n",
        "8. MaxHR:  maximum heart rate achived [Numeric value between 60 and 202]\n",
        "\n",
        "9. ExerciseAngina: exercise induced angina (Y = yes; N = no)\n",
        "\n",
        "10. Oldpeak: oldpeak [Numeric value measured in depression]\n",
        "\n",
        "11. ST_Slope: the slope of the peak exercise ST segment\n",
        "Up : upsloping\n",
        "Flat : flat\n",
        "Down : downsloping\n",
        "\n",
        "\n",
        "12. HeartDisease: target\n",
        "1 : high risk\n",
        "0 : normal\n",
        "\n",
        "\n",
        "\n"
      ]
    },
    {
      "cell_type": "markdown",
      "metadata": {
        "id": "V3KWpxltalMx"
      },
      "source": [
        "# **Exploratory Data Analysis and Visulization**"
      ]
    },
    {
      "cell_type": "code",
      "execution_count": null,
      "metadata": {
        "colab": {
          "base_uri": "https://localhost:8080/",
          "height": 325
        },
        "id": "owM1nu7CWGZg",
        "outputId": "e8abd826-3000-48d7-a981-036bbd14540e"
      },
      "outputs": [
        {
          "name": "stderr",
          "output_type": "stream",
          "text": [
            "<ipython-input-125-b0068ccbd1da>:2: FutureWarning: The default value of numeric_only in DataFrame.corr is deprecated. In a future version, it will default to False. Select only valid columns or specify the value of numeric_only to silence this warning.\n",
            "  df.corr()\n"
          ]
        },
        {
          "data": {
            "text/html": [
              "\n",
              "  <div id=\"df-e4f38269-ca15-490e-83f6-47237ed0ef36\" class=\"colab-df-container\">\n",
              "    <div>\n",
              "<style scoped>\n",
              "    .dataframe tbody tr th:only-of-type {\n",
              "        vertical-align: middle;\n",
              "    }\n",
              "\n",
              "    .dataframe tbody tr th {\n",
              "        vertical-align: top;\n",
              "    }\n",
              "\n",
              "    .dataframe thead th {\n",
              "        text-align: right;\n",
              "    }\n",
              "</style>\n",
              "<table border=\"1\" class=\"dataframe\">\n",
              "  <thead>\n",
              "    <tr style=\"text-align: right;\">\n",
              "      <th></th>\n",
              "      <th>Age</th>\n",
              "      <th>RestingBP</th>\n",
              "      <th>Cholesterol</th>\n",
              "      <th>FastingBS</th>\n",
              "      <th>MaxHR</th>\n",
              "      <th>Oldpeak</th>\n",
              "      <th>HeartDisease</th>\n",
              "    </tr>\n",
              "  </thead>\n",
              "  <tbody>\n",
              "    <tr>\n",
              "      <th>Age</th>\n",
              "      <td>1.000000</td>\n",
              "      <td>0.254399</td>\n",
              "      <td>-0.095282</td>\n",
              "      <td>0.198039</td>\n",
              "      <td>-0.382045</td>\n",
              "      <td>0.258612</td>\n",
              "      <td>0.282039</td>\n",
              "    </tr>\n",
              "    <tr>\n",
              "      <th>RestingBP</th>\n",
              "      <td>0.254399</td>\n",
              "      <td>1.000000</td>\n",
              "      <td>0.100893</td>\n",
              "      <td>0.070193</td>\n",
              "      <td>-0.112135</td>\n",
              "      <td>0.164803</td>\n",
              "      <td>0.107589</td>\n",
              "    </tr>\n",
              "    <tr>\n",
              "      <th>Cholesterol</th>\n",
              "      <td>-0.095282</td>\n",
              "      <td>0.100893</td>\n",
              "      <td>1.000000</td>\n",
              "      <td>-0.260974</td>\n",
              "      <td>0.235792</td>\n",
              "      <td>0.050148</td>\n",
              "      <td>-0.232741</td>\n",
              "    </tr>\n",
              "    <tr>\n",
              "      <th>FastingBS</th>\n",
              "      <td>0.198039</td>\n",
              "      <td>0.070193</td>\n",
              "      <td>-0.260974</td>\n",
              "      <td>1.000000</td>\n",
              "      <td>-0.131438</td>\n",
              "      <td>0.052698</td>\n",
              "      <td>0.267291</td>\n",
              "    </tr>\n",
              "    <tr>\n",
              "      <th>MaxHR</th>\n",
              "      <td>-0.382045</td>\n",
              "      <td>-0.112135</td>\n",
              "      <td>0.235792</td>\n",
              "      <td>-0.131438</td>\n",
              "      <td>1.000000</td>\n",
              "      <td>-0.160691</td>\n",
              "      <td>-0.400421</td>\n",
              "    </tr>\n",
              "    <tr>\n",
              "      <th>Oldpeak</th>\n",
              "      <td>0.258612</td>\n",
              "      <td>0.164803</td>\n",
              "      <td>0.050148</td>\n",
              "      <td>0.052698</td>\n",
              "      <td>-0.160691</td>\n",
              "      <td>1.000000</td>\n",
              "      <td>0.403951</td>\n",
              "    </tr>\n",
              "    <tr>\n",
              "      <th>HeartDisease</th>\n",
              "      <td>0.282039</td>\n",
              "      <td>0.107589</td>\n",
              "      <td>-0.232741</td>\n",
              "      <td>0.267291</td>\n",
              "      <td>-0.400421</td>\n",
              "      <td>0.403951</td>\n",
              "      <td>1.000000</td>\n",
              "    </tr>\n",
              "  </tbody>\n",
              "</table>\n",
              "</div>\n",
              "    <div class=\"colab-df-buttons\">\n",
              "\n",
              "  <div class=\"colab-df-container\">\n",
              "    <button class=\"colab-df-convert\" onclick=\"convertToInteractive('df-e4f38269-ca15-490e-83f6-47237ed0ef36')\"\n",
              "            title=\"Convert this dataframe to an interactive table.\"\n",
              "            style=\"display:none;\">\n",
              "\n",
              "  <svg xmlns=\"http://www.w3.org/2000/svg\" height=\"24px\" viewBox=\"0 -960 960 960\">\n",
              "    <path d=\"M120-120v-720h720v720H120Zm60-500h600v-160H180v160Zm220 220h160v-160H400v160Zm0 220h160v-160H400v160ZM180-400h160v-160H180v160Zm440 0h160v-160H620v160ZM180-180h160v-160H180v160Zm440 0h160v-160H620v160Z\"/>\n",
              "  </svg>\n",
              "    </button>\n",
              "\n",
              "  <style>\n",
              "    .colab-df-container {\n",
              "      display:flex;\n",
              "      gap: 12px;\n",
              "    }\n",
              "\n",
              "    .colab-df-convert {\n",
              "      background-color: #E8F0FE;\n",
              "      border: none;\n",
              "      border-radius: 50%;\n",
              "      cursor: pointer;\n",
              "      display: none;\n",
              "      fill: #1967D2;\n",
              "      height: 32px;\n",
              "      padding: 0 0 0 0;\n",
              "      width: 32px;\n",
              "    }\n",
              "\n",
              "    .colab-df-convert:hover {\n",
              "      background-color: #E2EBFA;\n",
              "      box-shadow: 0px 1px 2px rgba(60, 64, 67, 0.3), 0px 1px 3px 1px rgba(60, 64, 67, 0.15);\n",
              "      fill: #174EA6;\n",
              "    }\n",
              "\n",
              "    .colab-df-buttons div {\n",
              "      margin-bottom: 4px;\n",
              "    }\n",
              "\n",
              "    [theme=dark] .colab-df-convert {\n",
              "      background-color: #3B4455;\n",
              "      fill: #D2E3FC;\n",
              "    }\n",
              "\n",
              "    [theme=dark] .colab-df-convert:hover {\n",
              "      background-color: #434B5C;\n",
              "      box-shadow: 0px 1px 3px 1px rgba(0, 0, 0, 0.15);\n",
              "      filter: drop-shadow(0px 1px 2px rgba(0, 0, 0, 0.3));\n",
              "      fill: #FFFFFF;\n",
              "    }\n",
              "  </style>\n",
              "\n",
              "    <script>\n",
              "      const buttonEl =\n",
              "        document.querySelector('#df-e4f38269-ca15-490e-83f6-47237ed0ef36 button.colab-df-convert');\n",
              "      buttonEl.style.display =\n",
              "        google.colab.kernel.accessAllowed ? 'block' : 'none';\n",
              "\n",
              "      async function convertToInteractive(key) {\n",
              "        const element = document.querySelector('#df-e4f38269-ca15-490e-83f6-47237ed0ef36');\n",
              "        const dataTable =\n",
              "          await google.colab.kernel.invokeFunction('convertToInteractive',\n",
              "                                                    [key], {});\n",
              "        if (!dataTable) return;\n",
              "\n",
              "        const docLinkHtml = 'Like what you see? Visit the ' +\n",
              "          '<a target=\"_blank\" href=https://colab.research.google.com/notebooks/data_table.ipynb>data table notebook</a>'\n",
              "          + ' to learn more about interactive tables.';\n",
              "        element.innerHTML = '';\n",
              "        dataTable['output_type'] = 'display_data';\n",
              "        await google.colab.output.renderOutput(dataTable, element);\n",
              "        const docLink = document.createElement('div');\n",
              "        docLink.innerHTML = docLinkHtml;\n",
              "        element.appendChild(docLink);\n",
              "      }\n",
              "    </script>\n",
              "  </div>\n",
              "\n",
              "\n",
              "<div id=\"df-86655037-41a3-4c17-896a-57851508e031\">\n",
              "  <button class=\"colab-df-quickchart\" onclick=\"quickchart('df-86655037-41a3-4c17-896a-57851508e031')\"\n",
              "            title=\"Suggest charts\"\n",
              "            style=\"display:none;\">\n",
              "\n",
              "<svg xmlns=\"http://www.w3.org/2000/svg\" height=\"24px\"viewBox=\"0 0 24 24\"\n",
              "     width=\"24px\">\n",
              "    <g>\n",
              "        <path d=\"M19 3H5c-1.1 0-2 .9-2 2v14c0 1.1.9 2 2 2h14c1.1 0 2-.9 2-2V5c0-1.1-.9-2-2-2zM9 17H7v-7h2v7zm4 0h-2V7h2v10zm4 0h-2v-4h2v4z\"/>\n",
              "    </g>\n",
              "</svg>\n",
              "  </button>\n",
              "\n",
              "<style>\n",
              "  .colab-df-quickchart {\n",
              "      --bg-color: #E8F0FE;\n",
              "      --fill-color: #1967D2;\n",
              "      --hover-bg-color: #E2EBFA;\n",
              "      --hover-fill-color: #174EA6;\n",
              "      --disabled-fill-color: #AAA;\n",
              "      --disabled-bg-color: #DDD;\n",
              "  }\n",
              "\n",
              "  [theme=dark] .colab-df-quickchart {\n",
              "      --bg-color: #3B4455;\n",
              "      --fill-color: #D2E3FC;\n",
              "      --hover-bg-color: #434B5C;\n",
              "      --hover-fill-color: #FFFFFF;\n",
              "      --disabled-bg-color: #3B4455;\n",
              "      --disabled-fill-color: #666;\n",
              "  }\n",
              "\n",
              "  .colab-df-quickchart {\n",
              "    background-color: var(--bg-color);\n",
              "    border: none;\n",
              "    border-radius: 50%;\n",
              "    cursor: pointer;\n",
              "    display: none;\n",
              "    fill: var(--fill-color);\n",
              "    height: 32px;\n",
              "    padding: 0;\n",
              "    width: 32px;\n",
              "  }\n",
              "\n",
              "  .colab-df-quickchart:hover {\n",
              "    background-color: var(--hover-bg-color);\n",
              "    box-shadow: 0 1px 2px rgba(60, 64, 67, 0.3), 0 1px 3px 1px rgba(60, 64, 67, 0.15);\n",
              "    fill: var(--button-hover-fill-color);\n",
              "  }\n",
              "\n",
              "  .colab-df-quickchart-complete:disabled,\n",
              "  .colab-df-quickchart-complete:disabled:hover {\n",
              "    background-color: var(--disabled-bg-color);\n",
              "    fill: var(--disabled-fill-color);\n",
              "    box-shadow: none;\n",
              "  }\n",
              "\n",
              "  .colab-df-spinner {\n",
              "    border: 2px solid var(--fill-color);\n",
              "    border-color: transparent;\n",
              "    border-bottom-color: var(--fill-color);\n",
              "    animation:\n",
              "      spin 1s steps(1) infinite;\n",
              "  }\n",
              "\n",
              "  @keyframes spin {\n",
              "    0% {\n",
              "      border-color: transparent;\n",
              "      border-bottom-color: var(--fill-color);\n",
              "      border-left-color: var(--fill-color);\n",
              "    }\n",
              "    20% {\n",
              "      border-color: transparent;\n",
              "      border-left-color: var(--fill-color);\n",
              "      border-top-color: var(--fill-color);\n",
              "    }\n",
              "    30% {\n",
              "      border-color: transparent;\n",
              "      border-left-color: var(--fill-color);\n",
              "      border-top-color: var(--fill-color);\n",
              "      border-right-color: var(--fill-color);\n",
              "    }\n",
              "    40% {\n",
              "      border-color: transparent;\n",
              "      border-right-color: var(--fill-color);\n",
              "      border-top-color: var(--fill-color);\n",
              "    }\n",
              "    60% {\n",
              "      border-color: transparent;\n",
              "      border-right-color: var(--fill-color);\n",
              "    }\n",
              "    80% {\n",
              "      border-color: transparent;\n",
              "      border-right-color: var(--fill-color);\n",
              "      border-bottom-color: var(--fill-color);\n",
              "    }\n",
              "    90% {\n",
              "      border-color: transparent;\n",
              "      border-bottom-color: var(--fill-color);\n",
              "    }\n",
              "  }\n",
              "</style>\n",
              "\n",
              "  <script>\n",
              "    async function quickchart(key) {\n",
              "      const quickchartButtonEl =\n",
              "        document.querySelector('#' + key + ' button');\n",
              "      quickchartButtonEl.disabled = true;  // To prevent multiple clicks.\n",
              "      quickchartButtonEl.classList.add('colab-df-spinner');\n",
              "      try {\n",
              "        const charts = await google.colab.kernel.invokeFunction(\n",
              "            'suggestCharts', [key], {});\n",
              "      } catch (error) {\n",
              "        console.error('Error during call to suggestCharts:', error);\n",
              "      }\n",
              "      quickchartButtonEl.classList.remove('colab-df-spinner');\n",
              "      quickchartButtonEl.classList.add('colab-df-quickchart-complete');\n",
              "    }\n",
              "    (() => {\n",
              "      let quickchartButtonEl =\n",
              "        document.querySelector('#df-86655037-41a3-4c17-896a-57851508e031 button');\n",
              "      quickchartButtonEl.style.display =\n",
              "        google.colab.kernel.accessAllowed ? 'block' : 'none';\n",
              "    })();\n",
              "  </script>\n",
              "</div>\n",
              "    </div>\n",
              "  </div>\n"
            ],
            "text/plain": [
              "                   Age  RestingBP  Cholesterol  FastingBS     MaxHR   Oldpeak  \\\n",
              "Age           1.000000   0.254399    -0.095282   0.198039 -0.382045  0.258612   \n",
              "RestingBP     0.254399   1.000000     0.100893   0.070193 -0.112135  0.164803   \n",
              "Cholesterol  -0.095282   0.100893     1.000000  -0.260974  0.235792  0.050148   \n",
              "FastingBS     0.198039   0.070193    -0.260974   1.000000 -0.131438  0.052698   \n",
              "MaxHR        -0.382045  -0.112135     0.235792  -0.131438  1.000000 -0.160691   \n",
              "Oldpeak       0.258612   0.164803     0.050148   0.052698 -0.160691  1.000000   \n",
              "HeartDisease  0.282039   0.107589    -0.232741   0.267291 -0.400421  0.403951   \n",
              "\n",
              "              HeartDisease  \n",
              "Age               0.282039  \n",
              "RestingBP         0.107589  \n",
              "Cholesterol      -0.232741  \n",
              "FastingBS         0.267291  \n",
              "MaxHR            -0.400421  \n",
              "Oldpeak           0.403951  \n",
              "HeartDisease      1.000000  "
            ]
          },
          "execution_count": 125,
          "metadata": {},
          "output_type": "execute_result"
        }
      ],
      "source": [
        "# Correlation Matrix # reja\n",
        "df.corr()"
      ]
    },
    {
      "cell_type": "code",
      "execution_count": null,
      "metadata": {
        "colab": {
          "base_uri": "https://localhost:8080/",
          "height": 779
        },
        "id": "sPdfZWgVWUkR",
        "outputId": "c7469eb9-b20e-420a-cf20-25d0a31f2208"
      },
      "outputs": [
        {
          "name": "stderr",
          "output_type": "stream",
          "text": [
            "<ipython-input-126-d237110b52c1>:1: FutureWarning: The default value of numeric_only in DataFrame.corr is deprecated. In a future version, it will default to False. Select only valid columns or specify the value of numeric_only to silence this warning.\n",
            "  correlation_matrix = df.corr()\n"
          ]
        },
        {
          "data": {
            "image/png": "[encoded data removed]",
            "text/plain": [
              "<Figure size 1600x1000 with 2 Axes>"
            ]
          },
          "metadata": {},
          "output_type": "display_data"
        }
      ],
      "source": [
        "correlation_matrix = df.corr()\n",
        "fig,ax = plt.subplots(figsize=(16,10))\n",
        "ax=sns.heatmap(correlation_matrix, annot=True, linewidth=0.5, fmt='.2f', cmap='YlGnBu')"
      ]
    },
    {
      "cell_type": "code",
      "execution_count": null,
      "metadata": {
        "colab": {
          "base_uri": "https://localhost:8080/"
        },
        "id": "39tsGGuj1VZ_",
        "outputId": "b148e809-01bd-4b55-9d72-849fce344195"
      },
      "outputs": [
        {
          "data": {
            "text/plain": [
              "Age                50\n",
              "Sex                 2\n",
              "ChestPainType       4\n",
              "RestingBP          67\n",
              "Cholesterol       222\n",
              "FastingBS           2\n",
              "RestingECG          3\n",
              "MaxHR             119\n",
              "ExerciseAngina      2\n",
              "Oldpeak            53\n",
              "ST_Slope            3\n",
              "HeartDisease        2\n",
              "dtype: int64"
            ]
          },
          "execution_count": 127,
          "metadata": {},
          "output_type": "execute_result"
        }
      ],
      "source": [
        "\n",
        "# Determine the number of unique values in each column.\n",
        "application_cat = df.dtypes.index.tolist()\n",
        "df[application_cat].nunique()"
      ]
    },
    {
      "cell_type": "code",
      "execution_count": null,
      "metadata": {
        "colab": {
          "base_uri": "https://localhost:8080/"
        },
        "id": "cEu8lGS81VcH",
        "outputId": "2b6e456b-f0a0-4767-c06e-4aeb37e2828d"
      },
      "outputs": [
        {
          "name": "stdout",
          "output_type": "stream",
          "text": [
            "Data shape =  (918, 12)\n",
            "Missing value =  False\n"
          ]
        },
        {
          "data": {
            "text/plain": [
              "Age               0\n",
              "Sex               0\n",
              "ChestPainType     0\n",
              "RestingBP         0\n",
              "Cholesterol       0\n",
              "FastingBS         0\n",
              "RestingECG        0\n",
              "MaxHR             0\n",
              "ExerciseAngina    0\n",
              "Oldpeak           0\n",
              "ST_Slope          0\n",
              "HeartDisease      0\n",
              "dtype: int64"
            ]
          },
          "execution_count": 128,
          "metadata": {},
          "output_type": "execute_result"
        }
      ],
      "source": [
        "print(\"Data shape = \",df.shape)\n",
        "print(\"Missing value = \" ,df.isnull().values.any())\n",
        "\n",
        "# check for missing value\n",
        "df.isnull().sum()\n"
      ]
    },
    {
      "cell_type": "code",
      "execution_count": null,
      "metadata": {
        "colab": {
          "base_uri": "https://localhost:8080/"
        },
        "id": "F9f_AhO57r4I",
        "outputId": "2a0567dd-baa9-4ea7-8f29-6bb735c30808"
      },
      "outputs": [
        {
          "data": {
            "text/plain": [
              "Index(['Age', 'Sex', 'ChestPainType', 'RestingBP', 'Cholesterol', 'FastingBS',\n",
              "       'RestingECG', 'MaxHR', 'ExerciseAngina', 'Oldpeak', 'ST_Slope',\n",
              "       'HeartDisease'],\n",
              "      dtype='object')"
            ]
          },
          "execution_count": 129,
          "metadata": {},
          "output_type": "execute_result"
        }
      ],
      "source": [
        "df.columns"
      ]
    },
    {
      "cell_type": "code",
      "execution_count": null,
      "metadata": {
        "colab": {
          "base_uri": "https://localhost:8080/"
        },
        "id": "wxpJFVSkKsTW",
        "outputId": "6fe66a94-b64b-443c-ee90-dc8d7796420c"
      },
      "outputs": [
        {
          "data": {
            "text/plain": [
              "1    508\n",
              "0    410\n",
              "Name: HeartDisease, dtype: int64"
            ]
          },
          "execution_count": 130,
          "metadata": {},
          "output_type": "execute_result"
        }
      ],
      "source": [
        "# value count number of heart disease\n",
        "df.HeartDisease.value_counts()"
      ]
    },
    {
      "cell_type": "code",
      "execution_count": null,
      "metadata": {
        "colab": {
          "base_uri": "https://localhost:8080/"
        },
        "id": "EKD-To_mImhg",
        "outputId": "b34f0fab-2043-4523-a07c-d52c86771b80"
      },
      "outputs": [
        {
          "name": "stdout",
          "output_type": "stream",
          "text": [
            "Patients Haven't Heart Disease: 44.66%\n",
            "Patients Have Heart Disease: 55.34%\n"
          ]
        }
      ],
      "source": [
        "#getting the percentage of patients that have heart disease and haven't heart disease\n",
        "countNoDisease = len(df[df.HeartDisease == 0])\n",
        "countHaveDisease = len(df[df.HeartDisease == 1])\n",
        "print(\"Patients Haven't Heart Disease: {:.2f}%\".format((countNoDisease / (len(df.HeartDisease))*100)))\n",
        "print(\"Patients Have Heart Disease: {:.2f}%\".format((countHaveDisease / (len(df.HeartDisease))*100)))"
      ]
    },
    {
      "cell_type": "code",
      "execution_count": null,
      "metadata": {
        "colab": {
          "base_uri": "https://localhost:8080/",
          "height": 449
        },
        "id": "eNz44qmVImj_",
        "outputId": "8f03a186-12e9-4cdf-e251-3c347cd697ef"
      },
      "outputs": [
        {
          "data": {
            "image/png": "[encoded data removed]",
            "text/plain": [
              "<Figure size 640x480 with 1 Axes>"
            ]
          },
          "metadata": {},
          "output_type": "display_data"
        }
      ],
      "source": [
        "# using seaborn to visualize target values\n",
        "sns.countplot(x=\"HeartDisease\", data=df)\n",
        "plt.show()"
      ]
    },
    {
      "cell_type": "code",
      "execution_count": null,
      "metadata": {
        "id": "k07824enOi-w"
      },
      "outputs": [],
      "source": [
        "#convert Sex category to binary to visualize patient demographic\n",
        "sex_mapping = {'F': 0, 'M': 1}\n",
        "df['Sex'] = df['Sex'].map(sex_mapping)\n"
      ]
    },
    {
      "cell_type": "code",
      "execution_count": null,
      "metadata": {
        "colab": {
          "base_uri": "https://localhost:8080/"
        },
        "id": "X5RAKCW9Imlx",
        "outputId": "7ca7761e-f087-4137-acce-140672b4a780"
      },
      "outputs": [
        {
          "name": "stdout",
          "output_type": "stream",
          "text": [
            "Female Patients: 21.02%\n",
            "Male Patients: 78.98%\n"
          ]
        }
      ],
      "source": [
        "# getting the percentage of male and female patients\n",
        "countFemale = len(df[df.Sex == 0])\n",
        "countMale = len(df[df.Sex == 1])\n",
        "print(\"Female Patients: {:.2f}%\".format((countFemale / (len(df.Sex))*100)))\n",
        "print(\"Male Patients: {:.2f}%\".format((countMale / (len(df.Sex))*100)))"
      ]
    },
    {
      "cell_type": "code",
      "execution_count": null,
      "metadata": {
        "colab": {
          "base_uri": "https://localhost:8080/",
          "height": 449
        },
        "id": "RVTZ-V4dOJR-",
        "outputId": "1044b0e1-9176-4094-c1de-1113d7f9884f"
      },
      "outputs": [
        {
          "data": {
            "image/png": "[encoded data removed]",
            "text/plain": [
              "<Figure size 640x480 with 1 Axes>"
            ]
          },
          "metadata": {},
          "output_type": "display_data"
        }
      ],
      "source": [
        "sns.countplot(x='Sex', data=df)\n",
        "plt.xlabel(\"Sex (0 = female, 1= male)\")\n",
        "plt.show()"
      ]
    },
    {
      "cell_type": "code",
      "execution_count": null,
      "metadata": {
        "colab": {
          "base_uri": "https://localhost:8080/",
          "height": 364
        },
        "id": "e92Bq8wSImrh",
        "outputId": "80869951-6c01-4d06-d77c-57e086a897f6"
      },
      "outputs": [
        {
          "data": {
            "image/png": "[encoded data removed]",
            "text/plain": [
              "<Figure size 2000x600 with 1 Axes>"
            ]
          },
          "metadata": {},
          "output_type": "display_data"
        }
      ],
      "source": [
        "# visualize heartDisease by age using bar graph\n",
        "\n",
        "pd.crosstab(df.Age,df.HeartDisease).plot(kind=\"bar\",figsize=(20,6))\n",
        "plt.title('Heart Disease Frequency for Ages')\n",
        "plt.xlabel('Age')\n",
        "plt.ylabel('Frequency')\n",
        "# plt.savefig('heartDiseaseAndAges.png')\n",
        "plt.show()"
      ]
    },
    {
      "cell_type": "code",
      "execution_count": null,
      "metadata": {
        "colab": {
          "base_uri": "https://localhost:8080/",
          "height": 449
        },
        "id": "4D7jOvHtInNL",
        "outputId": "80b96391-09ee-469a-9c96-bfbf7e40b9f5"
      },
      "outputs": [
        {
          "data": {
            "image/png": "[encoded data removed]",
            "text/plain": [
              "<Figure size 640x480 with 1 Axes>"
            ]
          },
          "metadata": {},
          "output_type": "display_data"
        }
      ],
      "source": [
        "#visualize heartdisease by using scatter plot\n",
        "\n",
        "plt.scatter(x=df.Age[df.HeartDisease==1], y=df.MaxHR[(df.HeartDisease==1)], c=\"red\")\n",
        "plt.scatter(x=df.Age[df.HeartDisease==0], y=df.MaxHR[(df.HeartDisease==0)])\n",
        "plt.legend([\"Disease\", \"Not Disease\"])\n",
        "plt.xlabel(\"Age\")\n",
        "plt.ylabel(\"Maximum Heart Rate\")\n",
        "plt.show()"
      ]
    },
    {
      "cell_type": "markdown",
      "metadata": {
        "id": "VWyYFrdba1d2"
      },
      "source": [
        "# **Data Preprocessing**"
      ]
    },
    {
      "cell_type": "code",
      "execution_count": null,
      "metadata": {
        "id": "qJI30TW21VeN"
      },
      "outputs": [],
      "source": [
        "# since we have numerical and categorical variables\n",
        "# we are going to create two group\n",
        "\n",
        "numerical_columns = ['Age','RestingBP','Cholesterol','MaxHR','Oldpeak']\n",
        "\n",
        "#list of categorical columns\n",
        "categorical_columns =['ChestPainType', 'RestingECG', 'ExerciseAngina','ST_Slope']"
      ]
    },
    {
      "cell_type": "markdown",
      "metadata": {
        "id": "Fs_ghvtkXTQX"
      },
      "source": [
        "##**Getting dummies variables**"
      ]
    },
    {
      "cell_type": "code",
      "execution_count": null,
      "metadata": {
        "colab": {
          "base_uri": "https://localhost:8080/",
          "height": 226
        },
        "id": "Bl_MlNpPInRU",
        "outputId": "100d6b1f-b02d-4665-90e5-c69002bebc49"
      },
      "outputs": [
        {
          "data": {
            "text/html": [
              "\n",
              "  <div id=\"df-3a6f5452-9775-4e29-a40f-7589244aeb0f\" class=\"colab-df-container\">\n",
              "    <div>\n",
              "<style scoped>\n",
              "    .dataframe tbody tr th:only-of-type {\n",
              "        vertical-align: middle;\n",
              "    }\n",
              "\n",
              "    .dataframe tbody tr th {\n",
              "        vertical-align: top;\n",
              "    }\n",
              "\n",
              "    .dataframe thead th {\n",
              "        text-align: right;\n",
              "    }\n",
              "</style>\n",
              "<table border=\"1\" class=\"dataframe\">\n",
              "  <thead>\n",
              "    <tr style=\"text-align: right;\">\n",
              "      <th></th>\n",
              "      <th>Age</th>\n",
              "      <th>Sex</th>\n",
              "      <th>RestingBP</th>\n",
              "      <th>Cholesterol</th>\n",
              "      <th>FastingBS</th>\n",
              "      <th>MaxHR</th>\n",
              "      <th>Oldpeak</th>\n",
              "      <th>HeartDisease</th>\n",
              "      <th>ChestPainType_ASY</th>\n",
              "      <th>ChestPainType_ATA</th>\n",
              "      <th>ChestPainType_NAP</th>\n",
              "      <th>ChestPainType_TA</th>\n",
              "      <th>RestingECG_LVH</th>\n",
              "      <th>RestingECG_Normal</th>\n",
              "      <th>RestingECG_ST</th>\n",
              "      <th>ExerciseAngina_N</th>\n",
              "      <th>ExerciseAngina_Y</th>\n",
              "      <th>ST_Slope_Down</th>\n",
              "      <th>ST_Slope_Flat</th>\n",
              "      <th>ST_Slope_Up</th>\n",
              "    </tr>\n",
              "  </thead>\n",
              "  <tbody>\n",
              "    <tr>\n",
              "      <th>0</th>\n",
              "      <td>40</td>\n",
              "      <td>1</td>\n",
              "      <td>140</td>\n",
              "      <td>289</td>\n",
              "      <td>0</td>\n",
              "      <td>172</td>\n",
              "      <td>0.0</td>\n",
              "      <td>0</td>\n",
              "      <td>0</td>\n",
              "      <td>1</td>\n",
              "      <td>0</td>\n",
              "      <td>0</td>\n",
              "      <td>0</td>\n",
              "      <td>1</td>\n",
              "      <td>0</td>\n",
              "      <td>1</td>\n",
              "      <td>0</td>\n",
              "      <td>0</td>\n",
              "      <td>0</td>\n",
              "      <td>1</td>\n",
              "    </tr>\n",
              "    <tr>\n",
              "      <th>1</th>\n",
              "      <td>49</td>\n",
              "      <td>0</td>\n",
              "      <td>160</td>\n",
              "      <td>180</td>\n",
              "      <td>0</td>\n",
              "      <td>156</td>\n",
              "      <td>1.0</td>\n",
              "      <td>1</td>\n",
              "      <td>0</td>\n",
              "      <td>0</td>\n",
              "      <td>1</td>\n",
              "      <td>0</td>\n",
              "      <td>0</td>\n",
              "      <td>1</td>\n",
              "      <td>0</td>\n",
              "      <td>1</td>\n",
              "      <td>0</td>\n",
              "      <td>0</td>\n",
              "      <td>1</td>\n",
              "      <td>0</td>\n",
              "    </tr>\n",
              "    <tr>\n",
              "      <th>2</th>\n",
              "      <td>37</td>\n",
              "      <td>1</td>\n",
              "      <td>130</td>\n",
              "      <td>283</td>\n",
              "      <td>0</td>\n",
              "      <td>98</td>\n",
              "      <td>0.0</td>\n",
              "      <td>0</td>\n",
              "      <td>0</td>\n",
              "      <td>1</td>\n",
              "      <td>0</td>\n",
              "      <td>0</td>\n",
              "      <td>0</td>\n",
              "      <td>0</td>\n",
              "      <td>1</td>\n",
              "      <td>1</td>\n",
              "      <td>0</td>\n",
              "      <td>0</td>\n",
              "      <td>0</td>\n",
              "      <td>1</td>\n",
              "    </tr>\n",
              "    <tr>\n",
              "      <th>3</th>\n",
              "      <td>48</td>\n",
              "      <td>0</td>\n",
              "      <td>138</td>\n",
              "      <td>214</td>\n",
              "      <td>0</td>\n",
              "      <td>108</td>\n",
              "      <td>1.5</td>\n",
              "      <td>1</td>\n",
              "      <td>1</td>\n",
              "      <td>0</td>\n",
              "      <td>0</td>\n",
              "      <td>0</td>\n",
              "      <td>0</td>\n",
              "      <td>1</td>\n",
              "      <td>0</td>\n",
              "      <td>0</td>\n",
              "      <td>1</td>\n",
              "      <td>0</td>\n",
              "      <td>1</td>\n",
              "      <td>0</td>\n",
              "    </tr>\n",
              "    <tr>\n",
              "      <th>4</th>\n",
              "      <td>54</td>\n",
              "      <td>1</td>\n",
              "      <td>150</td>\n",
              "      <td>195</td>\n",
              "      <td>0</td>\n",
              "      <td>122</td>\n",
              "      <td>0.0</td>\n",
              "      <td>0</td>\n",
              "      <td>0</td>\n",
              "      <td>0</td>\n",
              "      <td>1</td>\n",
              "      <td>0</td>\n",
              "      <td>0</td>\n",
              "      <td>1</td>\n",
              "      <td>0</td>\n",
              "      <td>1</td>\n",
              "      <td>0</td>\n",
              "      <td>0</td>\n",
              "      <td>0</td>\n",
              "      <td>1</td>\n",
              "    </tr>\n",
              "  </tbody>\n",
              "</table>\n",
              "</div>\n",
              "    <div class=\"colab-df-buttons\">\n",
              "\n",
              "  <div class=\"colab-df-container\">\n",
              "    <button class=\"colab-df-convert\" onclick=\"convertToInteractive('df-3a6f5452-9775-4e29-a40f-7589244aeb0f')\"\n",
              "            title=\"Convert this dataframe to an interactive table.\"\n",
              "            style=\"display:none;\">\n",
              "\n",
              "  <svg xmlns=\"http://www.w3.org/2000/svg\" height=\"24px\" viewBox=\"0 -960 960 960\">\n",
              "    <path d=\"M120-120v-720h720v720H120Zm60-500h600v-160H180v160Zm220 220h160v-160H400v160Zm0 220h160v-160H400v160ZM180-400h160v-160H180v160Zm440 0h160v-160H620v160ZM180-180h160v-160H180v160Zm440 0h160v-160H620v160Z\"/>\n",
              "  </svg>\n",
              "    </button>\n",
              "\n",
              "  <style>\n",
              "    .colab-df-container {\n",
              "      display:flex;\n",
              "      gap: 12px;\n",
              "    }\n",
              "\n",
              "    .colab-df-convert {\n",
              "      background-color: #E8F0FE;\n",
              "      border: none;\n",
              "      border-radius: 50%;\n",
              "      cursor: pointer;\n",
              "      display: none;\n",
              "      fill: #1967D2;\n",
              "      height: 32px;\n",
              "      padding: 0 0 0 0;\n",
              "      width: 32px;\n",
              "    }\n",
              "\n",
              "    .colab-df-convert:hover {\n",
              "      background-color: #E2EBFA;\n",
              "      box-shadow: 0px 1px 2px rgba(60, 64, 67, 0.3), 0px 1px 3px 1px rgba(60, 64, 67, 0.15);\n",
              "      fill: #174EA6;\n",
              "    }\n",
              "\n",
              "    .colab-df-buttons div {\n",
              "      margin-bottom: 4px;\n",
              "    }\n",
              "\n",
              "    [theme=dark] .colab-df-convert {\n",
              "      background-color: #3B4455;\n",
              "      fill: #D2E3FC;\n",
              "    }\n",
              "\n",
              "    [theme=dark] .colab-df-convert:hover {\n",
              "      background-color: #434B5C;\n",
              "      box-shadow: 0px 1px 3px 1px rgba(0, 0, 0, 0.15);\n",
              "      filter: drop-shadow(0px 1px 2px rgba(0, 0, 0, 0.3));\n",
              "      fill: #FFFFFF;\n",
              "    }\n",
              "  </style>\n",
              "\n",
              "    <script>\n",
              "      const buttonEl =\n",
              "        document.querySelector('#df-3a6f5452-9775-4e29-a40f-7589244aeb0f button.colab-df-convert');\n",
              "      buttonEl.style.display =\n",
              "        google.colab.kernel.accessAllowed ? 'block' : 'none';\n",
              "\n",
              "      async function convertToInteractive(key) {\n",
              "        const element = document.querySelector('#df-3a6f5452-9775-4e29-a40f-7589244aeb0f');\n",
              "        const dataTable =\n",
              "          await google.colab.kernel.invokeFunction('convertToInteractive',\n",
              "                                                    [key], {});\n",
              "        if (!dataTable) return;\n",
              "\n",
              "        const docLinkHtml = 'Like what you see? Visit the ' +\n",
              "          '<a target=\"_blank\" href=https://colab.research.google.com/notebooks/data_table.ipynb>data table notebook</a>'\n",
              "          + ' to learn more about interactive tables.';\n",
              "        element.innerHTML = '';\n",
              "        dataTable['output_type'] = 'display_data';\n",
              "        await google.colab.output.renderOutput(dataTable, element);\n",
              "        const docLink = document.createElement('div');\n",
              "        docLink.innerHTML = docLinkHtml;\n",
              "        element.appendChild(docLink);\n",
              "      }\n",
              "    </script>\n",
              "  </div>\n",
              "\n",
              "\n",
              "<div id=\"df-3b6e5df7-9244-4fb0-8e8c-a0d242cff890\">\n",
              "  <button class=\"colab-df-quickchart\" onclick=\"quickchart('df-3b6e5df7-9244-4fb0-8e8c-a0d242cff890')\"\n",
              "            title=\"Suggest charts\"\n",
              "            style=\"display:none;\">\n",
              "\n",
              "<svg xmlns=\"http://www.w3.org/2000/svg\" height=\"24px\"viewBox=\"0 0 24 24\"\n",
              "     width=\"24px\">\n",
              "    <g>\n",
              "        <path d=\"M19 3H5c-1.1 0-2 .9-2 2v14c0 1.1.9 2 2 2h14c1.1 0 2-.9 2-2V5c0-1.1-.9-2-2-2zM9 17H7v-7h2v7zm4 0h-2V7h2v10zm4 0h-2v-4h2v4z\"/>\n",
              "    </g>\n",
              "</svg>\n",
              "  </button>\n",
              "\n",
              "<style>\n",
              "  .colab-df-quickchart {\n",
              "      --bg-color: #E8F0FE;\n",
              "      --fill-color: #1967D2;\n",
              "      --hover-bg-color: #E2EBFA;\n",
              "      --hover-fill-color: #174EA6;\n",
              "      --disabled-fill-color: #AAA;\n",
              "      --disabled-bg-color: #DDD;\n",
              "  }\n",
              "\n",
              "  [theme=dark] .colab-df-quickchart {\n",
              "      --bg-color: #3B4455;\n",
              "      --fill-color: #D2E3FC;\n",
              "      --hover-bg-color: #434B5C;\n",
              "      --hover-fill-color: #FFFFFF;\n",
              "      --disabled-bg-color: #3B4455;\n",
              "      --disabled-fill-color: #666;\n",
              "  }\n",
              "\n",
              "  .colab-df-quickchart {\n",
              "    background-color: var(--bg-color);\n",
              "    border: none;\n",
              "    border-radius: 50%;\n",
              "    cursor: pointer;\n",
              "    display: none;\n",
              "    fill: var(--fill-color);\n",
              "    height: 32px;\n",
              "    padding: 0;\n",
              "    width: 32px;\n",
              "  }\n",
              "\n",
              "  .colab-df-quickchart:hover {\n",
              "    background-color: var(--hover-bg-color);\n",
              "    box-shadow: 0 1px 2px rgba(60, 64, 67, 0.3), 0 1px 3px 1px rgba(60, 64, 67, 0.15);\n",
              "    fill: var(--button-hover-fill-color);\n",
              "  }\n",
              "\n",
              "  .colab-df-quickchart-complete:disabled,\n",
              "  .colab-df-quickchart-complete:disabled:hover {\n",
              "    background-color: var(--disabled-bg-color);\n",
              "    fill: var(--disabled-fill-color);\n",
              "    box-shadow: none;\n",
              "  }\n",
              "\n",
              "  .colab-df-spinner {\n",
              "    border: 2px solid var(--fill-color);\n",
              "    border-color: transparent;\n",
              "    border-bottom-color: var(--fill-color);\n",
              "    animation:\n",
              "      spin 1s steps(1) infinite;\n",
              "  }\n",
              "\n",
              "  @keyframes spin {\n",
              "    0% {\n",
              "      border-color: transparent;\n",
              "      border-bottom-color: var(--fill-color);\n",
              "      border-left-color: var(--fill-color);\n",
              "    }\n",
              "    20% {\n",
              "      border-color: transparent;\n",
              "      border-left-color: var(--fill-color);\n",
              "      border-top-color: var(--fill-color);\n",
              "    }\n",
              "    30% {\n",
              "      border-color: transparent;\n",
              "      border-left-color: var(--fill-color);\n",
              "      border-top-color: var(--fill-color);\n",
              "      border-right-color: var(--fill-color);\n",
              "    }\n",
              "    40% {\n",
              "      border-color: transparent;\n",
              "      border-right-color: var(--fill-color);\n",
              "      border-top-color: var(--fill-color);\n",
              "    }\n",
              "    60% {\n",
              "      border-color: transparent;\n",
              "      border-right-color: var(--fill-color);\n",
              "    }\n",
              "    80% {\n",
              "      border-color: transparent;\n",
              "      border-right-color: var(--fill-color);\n",
              "      border-bottom-color: var(--fill-color);\n",
              "    }\n",
              "    90% {\n",
              "      border-color: transparent;\n",
              "      border-bottom-color: var(--fill-color);\n",
              "    }\n",
              "  }\n",
              "</style>\n",
              "\n",
              "  <script>\n",
              "    async function quickchart(key) {\n",
              "      const quickchartButtonEl =\n",
              "        document.querySelector('#' + key + ' button');\n",
              "      quickchartButtonEl.disabled = true;  // To prevent multiple clicks.\n",
              "      quickchartButtonEl.classList.add('colab-df-spinner');\n",
              "      try {\n",
              "        const charts = await google.colab.kernel.invokeFunction(\n",
              "            'suggestCharts', [key], {});\n",
              "      } catch (error) {\n",
              "        console.error('Error during call to suggestCharts:', error);\n",
              "      }\n",
              "      quickchartButtonEl.classList.remove('colab-df-spinner');\n",
              "      quickchartButtonEl.classList.add('colab-df-quickchart-complete');\n",
              "    }\n",
              "    (() => {\n",
              "      let quickchartButtonEl =\n",
              "        document.querySelector('#df-3b6e5df7-9244-4fb0-8e8c-a0d242cff890 button');\n",
              "      quickchartButtonEl.style.display =\n",
              "        google.colab.kernel.accessAllowed ? 'block' : 'none';\n",
              "    })();\n",
              "  </script>\n",
              "</div>\n",
              "    </div>\n",
              "  </div>\n"
            ],
            "text/plain": [
              "   Age  Sex  RestingBP  Cholesterol  FastingBS  MaxHR  Oldpeak  HeartDisease  \\\n",
              "0   40    1        140          289          0    172      0.0             0   \n",
              "1   49    0        160          180          0    156      1.0             1   \n",
              "2   37    1        130          283          0     98      0.0             0   \n",
              "3   48    0        138          214          0    108      1.5             1   \n",
              "4   54    1        150          195          0    122      0.0             0   \n",
              "\n",
              "   ChestPainType_ASY  ChestPainType_ATA  ChestPainType_NAP  ChestPainType_TA  \\\n",
              "0                  0                  1                  0                 0   \n",
              "1                  0                  0                  1                 0   \n",
              "2                  0                  1                  0                 0   \n",
              "3                  1                  0                  0                 0   \n",
              "4                  0                  0                  1                 0   \n",
              "\n",
              "   RestingECG_LVH  RestingECG_Normal  RestingECG_ST  ExerciseAngina_N  \\\n",
              "0               0                  1              0                 1   \n",
              "1               0                  1              0                 1   \n",
              "2               0                  0              1                 1   \n",
              "3               0                  1              0                 0   \n",
              "4               0                  1              0                 1   \n",
              "\n",
              "   ExerciseAngina_Y  ST_Slope_Down  ST_Slope_Flat  ST_Slope_Up  \n",
              "0                 0              0              0            1  \n",
              "1                 0              0              1            0  \n",
              "2                 0              0              0            1  \n",
              "3                 1              0              1            0  \n",
              "4                 0              0              0            1  "
            ]
          },
          "execution_count": 139,
          "metadata": {},
          "output_type": "execute_result"
        }
      ],
      "source": [
        "#getting dummies variables for categorical data\n",
        "\n",
        "df_2 = pd.get_dummies(df, columns = categorical_columns )\n",
        "\n",
        "\n",
        "df_2.head()"
      ]
    },
    {
      "cell_type": "code",
      "execution_count": null,
      "metadata": {
        "colab": {
          "base_uri": "https://localhost:8080/"
        },
        "id": "K4JmgClJW3tP",
        "outputId": "2f6c089e-5c91-4df4-f8b6-24718aa741fe"
      },
      "outputs": [
        {
          "data": {
            "text/plain": [
              "Index(['Age', 'Sex', 'RestingBP', 'Cholesterol', 'FastingBS', 'MaxHR',\n",
              "       'Oldpeak', 'HeartDisease', 'ChestPainType_ASY', 'ChestPainType_ATA',\n",
              "       'ChestPainType_NAP', 'ChestPainType_TA', 'RestingECG_LVH',\n",
              "       'RestingECG_Normal', 'RestingECG_ST', 'ExerciseAngina_N',\n",
              "       'ExerciseAngina_Y', 'ST_Slope_Down', 'ST_Slope_Flat', 'ST_Slope_Up'],\n",
              "      dtype='object')"
            ]
          },
          "execution_count": 140,
          "metadata": {},
          "output_type": "execute_result"
        }
      ],
      "source": [
        "df_2.columns"
      ]
    },
    {
      "cell_type": "code",
      "execution_count": null,
      "metadata": {
        "colab": {
          "base_uri": "https://localhost:8080/"
        },
        "id": "gfrOpQdKW3vd",
        "outputId": "54da65e2-ef7b-49b2-c4e6-623c7ecb409b"
      },
      "outputs": [
        {
          "data": {
            "text/plain": [
              "Age                    int64\n",
              "Sex                    int64\n",
              "RestingBP              int64\n",
              "Cholesterol            int64\n",
              "FastingBS              int64\n",
              "MaxHR                  int64\n",
              "Oldpeak              float64\n",
              "HeartDisease           int64\n",
              "ChestPainType_ASY      uint8\n",
              "ChestPainType_ATA      uint8\n",
              "ChestPainType_NAP      uint8\n",
              "ChestPainType_TA       uint8\n",
              "RestingECG_LVH         uint8\n",
              "RestingECG_Normal      uint8\n",
              "RestingECG_ST          uint8\n",
              "ExerciseAngina_N       uint8\n",
              "ExerciseAngina_Y       uint8\n",
              "ST_Slope_Down          uint8\n",
              "ST_Slope_Flat          uint8\n",
              "ST_Slope_Up            uint8\n",
              "dtype: object"
            ]
          },
          "execution_count": 141,
          "metadata": {},
          "output_type": "execute_result"
        }
      ],
      "source": [
        "df_2.dtypes"
      ]
    },
    {
      "cell_type": "markdown",
      "metadata": {
        "id": "MA6__rpDnwiP"
      },
      "source": [
        "## **Getting target feature and scale numerical values**"
      ]
    },
    {
      "cell_type": "code",
      "execution_count": null,
      "metadata": {
        "id": "dZEjSuBAbOkR"
      },
      "outputs": [],
      "source": [
        "## Split our preprocessed data into our features and target arrays\n",
        "X = df_2.drop(columns=['HeartDisease'], axis=1)\n",
        "y = df_2['HeartDisease']\n",
        "\n",
        "# Split the preprocessed data into a training and testing dataset\n",
        "\n",
        "X_train, X_test, y_train, y_test = train_test_split(X, y, test_size=0.2, random_state = 1)"
      ]
    },
    {
      "cell_type": "code",
      "execution_count": null,
      "metadata": {
        "id": "NgmFMcL3bOmh"
      },
      "outputs": [],
      "source": [
        "# Create a StandardScaler instances\n",
        "scaler = StandardScaler()\n",
        "\n",
        "# Fit the StandardScaler\n",
        "X_scaler = scaler.fit(X_train)\n",
        "\n",
        "# Scale the data\n",
        "X_train_scaled = X_scaler.transform(X_train)\n",
        "X_test_scaled = X_scaler.transform(X_test)"
      ]
    },
    {
      "cell_type": "markdown",
      "metadata": {
        "id": "-RI9uqbwaDBM"
      },
      "source": [
        "# **Building and Comparing Models**"
      ]
    },
    {
      "cell_type": "markdown",
      "metadata": {
        "id": "y0ofvN4LaKDu"
      },
      "source": [
        "# **Logistic Regression Model**"
      ]
    },
    {
      "cell_type": "code",
      "execution_count": null,
      "metadata": {
        "id": "zBPt3h4zbOol"
      },
      "outputs": [],
      "source": [
        "# empty dictionary to store accuracy of model\n",
        "accuracies = {}\n",
        "\n",
        "#instantiated regression model lr\n",
        "lr = LogisticRegression()\n",
        "\n",
        "# fits logistic regression model on training data X_train_scaled represent features, y_train represent corresponding target values\n",
        "lr.fit(X_train_scaled,y_train)\n",
        "\n",
        "# after model has been trained.  evaluate the test (X_test_scaled, y_test)\n",
        "# used the score method to computes the accuracy of the model by comparing predictions (X_test_scaled) to actual labels (y_test)\n",
        "\n",
        "lr_acc = lr.score(X_test_scaled,y_test)*100\n",
        "\n"
      ]
    },
    {
      "cell_type": "code",
      "execution_count": null,
      "metadata": {
        "colab": {
          "base_uri": "https://localhost:8080/"
        },
        "id": "wBUgliv-1VgJ",
        "outputId": "ac6abec3-f75a-4cd5-f613-701e1f14451d"
      },
      "outputs": [
        {
          "name": "stdout",
          "output_type": "stream",
          "text": [
            "Test Accuracy 89.67%\n"
          ]
        }
      ],
      "source": [
        "# logistic regression model can accurately predict 91% of heart disease\n",
        "accuracies['Logistic Regression'] = lr_acc\n",
        "print(\"Test Accuracy {:.2f}%\".format(lr_acc))"
      ]
    },
    {
      "cell_type": "code",
      "execution_count": null,
      "metadata": {
        "id": "9m5pWHtRd2bM"
      },
      "outputs": [],
      "source": [
        "y_pred_regression = lr.predict(X_test_scaled)\n",
        "\n",
        "# Evaluate the model\n",
        "lr_accuracy = accuracy_score(y_test, y_pred_regression)\n",
        "lr_precision = precision_score(y_test, y_pred_regression)\n",
        "lr_recall = recall_score(y_test, y_pred_regression)\n",
        "lr_f1 = f1_score(y_test, y_pred_regression)\n"
      ]
    },
    {
      "cell_type": "code",
      "execution_count": null,
      "metadata": {
        "colab": {
          "base_uri": "https://localhost:8080/"
        },
        "id": "MjpqPA-Rd22d",
        "outputId": "f10f0b8c-879d-4370-f519-cc0d30bd797a"
      },
      "outputs": [
        {
          "name": "stdout",
          "output_type": "stream",
          "text": [
            "Accuracy: 0.8967391304347826\n",
            "Precision: 0.9099099099099099\n",
            "Recall: 0.9181818181818182\n",
            "F1 Score: 0.914027149321267\n"
          ]
        }
      ],
      "source": [
        "# Print the metrics\n",
        "print(\"Accuracy:\", lr_accuracy)\n",
        "print(\"Precision:\", lr_precision)\n",
        "print(\"Recall:\", lr_recall)\n",
        "print(\"F1 Score:\", lr_f1)"
      ]
    },
    {
      "cell_type": "code",
      "execution_count": null,
      "metadata": {
        "colab": {
          "base_uri": "https://localhost:8080/"
        },
        "id": "hOSBu3D7qrB1",
        "outputId": "b0adbb3d-6191-4f10-e251-db18a74a5f34"
      },
      "outputs": [
        {
          "name": "stdout",
          "output_type": "stream",
          "text": [
            "Classification Report\n",
            "              precision    recall  f1-score   support\n",
            "\n",
            "           0       0.88      0.86      0.87        74\n",
            "           1       0.91      0.92      0.91       110\n",
            "\n",
            "    accuracy                           0.90       184\n",
            "   macro avg       0.89      0.89      0.89       184\n",
            "weighted avg       0.90      0.90      0.90       184\n",
            "\n"
          ]
        }
      ],
      "source": [
        "print(\"Classification Report\")\n",
        "print(classification_report(y_test, y_pred_regression))"
      ]
    },
    {
      "cell_type": "code",
      "execution_count": null,
      "metadata": {
        "colab": {
          "base_uri": "https://localhost:8080/"
        },
        "id": "CcxBMf7Wd25g",
        "outputId": "c9222946-0271-4481-de52-366c0bc264b3"
      },
      "outputs": [
        {
          "data": {
            "text/plain": [
              "(184, 19)"
            ]
          },
          "execution_count": 149,
          "metadata": {},
          "output_type": "execute_result"
        }
      ],
      "source": [
        "X_test_scaled.shape"
      ]
    },
    {
      "cell_type": "markdown",
      "metadata": {
        "id": "IlUSKein5OSu"
      },
      "source": [
        "# **Build SVM Model**"
      ]
    },
    {
      "cell_type": "code",
      "execution_count": null,
      "metadata": {
        "id": "x7-YvYxi5KHB"
      },
      "outputs": [],
      "source": [
        "#Import SVM dependencies\n",
        "from sklearn import svm\n"
      ]
    },
    {
      "cell_type": "code",
      "execution_count": null,
      "metadata": {
        "colab": {
          "base_uri": "https://localhost:8080/"
        },
        "id": "FQxLh5Bc5Mkm",
        "outputId": "b0440d4a-dfc5-4320-c070-acf86789455c"
      },
      "outputs": [
        {
          "name": "stdout",
          "output_type": "stream",
          "text": [
            "Accuracy: 0.907608695652174\n",
            "Precision: 0.918918918918919\n",
            "Recall: 0.9272727272727272\n",
            "F1 Score: 0.9230769230769231\n"
          ]
        }
      ],
      "source": [
        "# empty dictionary to store accuracy of model\n",
        "accuracies = {}\n",
        "\n",
        "\n",
        "#svm model with kernel = to linear\n",
        "\n",
        "#instantiated Support Vector Machine algorithm svm\n",
        "clf = svm.SVC(kernel='linear') # Linear Kernel\n",
        "\n",
        "# fits SVM model on training data X_train_scaled represent features, y_train represent corresponding target values\n",
        "clf.fit(X_train_scaled, y_train)\n",
        "\n",
        "# after model has been trained.  evaluate the test (X_test_scaled, y_test)\n",
        "# used the score method to computes the accuracy of the model by comparing predictions (X_test_scaled) to actual labels (y_test)\n",
        "\n",
        "# acc = svm.score(X_test_scaled,y_test)*100\n",
        "y_pred_svm = clf.predict(X_test_scaled)\n",
        "\n",
        "clf_accuracy = accuracy_score(y_test, y_pred_svm)\n",
        "clf_precision = precision_score(y_test, y_pred_svm)\n",
        "clf_recall = recall_score(y_test, y_pred_svm)\n",
        "clf_f1 = f1_score(y_test, y_pred_svm)\n",
        "\n",
        "print(\"Accuracy:\", clf_accuracy)\n",
        "print(\"Precision:\", clf_precision)\n",
        "print(\"Recall:\", clf_recall)\n",
        "print(\"F1 Score:\", clf_f1)\n"
      ]
    },
    {
      "cell_type": "code",
      "execution_count": null,
      "metadata": {
        "colab": {
          "base_uri": "https://localhost:8080/"
        },
        "id": "3PeLUgeZytXw",
        "outputId": "d60e8b9f-ad4e-492a-c865-63d7c9c728df"
      },
      "outputs": [
        {
          "name": "stdout",
          "output_type": "stream",
          "text": [
            "Classification Report\n",
            "              precision    recall  f1-score   support\n",
            "\n",
            "           0       0.89      0.88      0.88        74\n",
            "           1       0.92      0.93      0.92       110\n",
            "\n",
            "    accuracy                           0.91       184\n",
            "   macro avg       0.90      0.90      0.90       184\n",
            "weighted avg       0.91      0.91      0.91       184\n",
            "\n"
          ]
        }
      ],
      "source": [
        "print(\"Classification Report\")\n",
        "print(classification_report(y_test, y_pred_svm))"
      ]
    },
    {
      "cell_type": "markdown",
      "metadata": {
        "id": "17l9XNZA-m04"
      },
      "source": [
        "# **Build Decision Tree Model**"
      ]
    },
    {
      "cell_type": "code",
      "execution_count": null,
      "metadata": {
        "id": "lVHclIng-ynR"
      },
      "outputs": [],
      "source": [
        "#Import Decision Tree Classifier dependencies\n",
        "from sklearn.tree import DecisionTreeClassifier"
      ]
    },
    {
      "cell_type": "code",
      "execution_count": null,
      "metadata": {
        "id": "UbrmFAOv-ziX"
      },
      "outputs": [],
      "source": [
        "# empty dictionary to store accuracy of model\n",
        "accuracies = {}\n",
        "\n",
        "#instantiated Decision Tree Calssifier algorithm dtc\n",
        "dtc = DecisionTreeClassifier()\n",
        "\n",
        "# fits dtc model on training data X_train_scaled represent features, y_train represent corresponding target values\n",
        "dtc.fit(X_train_scaled, y_train)\n",
        "\n",
        "# after model has been trained.  evaluate the test (X_test_scaled, y_test)\n",
        "# used the score method to computes the accuracy of the model by comparing predictions (X_test_scaled) to actual labels (y_test)\n",
        "y_pred_dtc = dtc.predict(X_test_scaled)\n",
        "\n",
        "dtc_accuracy = accuracy_score(y_test, y_pred_dtc)\n",
        "dtc_precision = precision_score(y_test, y_pred_dtc)\n",
        "dtc_recall = recall_score(y_test, y_pred_dtc)\n",
        "dtc_f1 = f1_score(y_test, y_pred_dtc)\n",
        "\n",
        "acc = dtc.score(X_test_scaled,y_test)*100"
      ]
    },
    {
      "cell_type": "code",
      "execution_count": null,
      "metadata": {
        "colab": {
          "base_uri": "https://localhost:8080/"
        },
        "id": "hfvRyCm1-zQ_",
        "outputId": "12eed3fb-9986-477a-a0f1-d584569877e3"
      },
      "outputs": [
        {
          "name": "stdout",
          "output_type": "stream",
          "text": [
            "Decision Tree Test Accuracy 78.26%\n"
          ]
        }
      ],
      "source": [
        "#Decision Tree Classifier can accurately predict 91% of heart disease\n",
        "accuracies['Decision Tree'] = acc\n",
        "print(\"Decision Tree Test Accuracy {:.2f}%\".format(acc))"
      ]
    },
    {
      "cell_type": "code",
      "execution_count": null,
      "metadata": {
        "colab": {
          "base_uri": "https://localhost:8080/"
        },
        "id": "5rNLdRVDzdI-",
        "outputId": "7feff4b8-1796-42b8-a4e9-0cda616542b9"
      },
      "outputs": [
        {
          "name": "stdout",
          "output_type": "stream",
          "text": [
            "Classification Report\n",
            "              precision    recall  f1-score   support\n",
            "\n",
            "           0       0.68      0.86      0.76        74\n",
            "           1       0.89      0.73      0.80       110\n",
            "\n",
            "    accuracy                           0.78       184\n",
            "   macro avg       0.78      0.80      0.78       184\n",
            "weighted avg       0.81      0.78      0.78       184\n",
            "\n"
          ]
        }
      ],
      "source": [
        "print(\"Classification Report\")\n",
        "print(classification_report(y_test, y_pred_dtc))"
      ]
    },
    {
      "cell_type": "markdown",
      "metadata": {
        "id": "BueDXnI5BDhs"
      },
      "source": [
        "# **Build Random Forest Classification Model** "
      ]
    },
    {
      "cell_type": "code",
      "execution_count": null,
      "metadata": {
        "id": "bWHbG_a7BK3L"
      },
      "outputs": [],
      "source": [
        "#Import Random Forest Classification dependencies\n",
        "from sklearn.ensemble import RandomForestClassifier"
      ]
    },
    {
      "cell_type": "code",
      "execution_count": null,
      "metadata": {
        "id": "4MhKUUjKBLfO"
      },
      "outputs": [],
      "source": [
        "# empty dictionary to store accuracy of model\n",
        "accuracies = {}\n",
        "\n",
        "#instantiated Random forest Calssifier algorithm rf\n",
        "rf =  RandomForestClassifier(n_estimators = 1000, random_state = 1)\n",
        "\n",
        "# fits rf model on training data X_train_scaled represent features, y_train represent corresponding target values\n",
        "rf.fit(X_train_scaled, y_train)\n",
        "\n",
        "# after model has been trained.  evaluate the test (X_test_scaled, y_test)\n",
        "# used the score method to computes the accuracy of the model by comparing predictions (X_test_scaled) to actual labels (y_test)\n",
        "y_pred_rf = rf.predict(X_test_scaled)\n",
        "\n",
        "rf_accuracy = accuracy_score(y_test, y_pred_rf)\n",
        "rf_precision = precision_score(y_test, y_pred_rf)\n",
        "rf_recall = recall_score(y_test, y_pred_rf)\n",
        "rf_f1 = f1_score(y_test, y_pred_rf)\n",
        "\n",
        "acc = rf.score(X_test_scaled,y_test)"
      ]
    },
    {
      "cell_type": "code",
      "execution_count": null,
      "metadata": {
        "colab": {
          "base_uri": "https://localhost:8080/"
        },
        "id": "1yPXfgEDBLSm",
        "outputId": "702b2cb9-34c5-4526-a1c3-b4bd6fd68ef2"
      },
      "outputs": [
        {
          "name": "stdout",
          "output_type": "stream",
          "text": [
            "Random Forest Algorithm Accuracy Score : 0.90%\n"
          ]
        }
      ],
      "source": [
        "#Random Forest Classifier can accurately predict 91% of heart disease\n",
        "accuracies['Random Forest'] = acc\n",
        "print(\"Random Forest Algorithm Accuracy Score : {:.2f}%\".format(acc))"
      ]
    },
    {
      "cell_type": "code",
      "execution_count": null,
      "metadata": {
        "colab": {
          "base_uri": "https://localhost:8080/"
        },
        "id": "h21DmHVOfU53",
        "outputId": "30b5c338-33a3-481d-c4ed-61a7d2307562"
      },
      "outputs": [
        {
          "name": "stdout",
          "output_type": "stream",
          "text": [
            "Classification Report\n",
            "              precision    recall  f1-score   support\n",
            "\n",
            "           0       0.89      0.85      0.87        74\n",
            "           1       0.90      0.93      0.91       110\n",
            "\n",
            "    accuracy                           0.90       184\n",
            "   macro avg       0.89      0.89      0.89       184\n",
            "weighted avg       0.90      0.90      0.90       184\n",
            "\n"
          ]
        }
      ],
      "source": [
        "print(\"Classification Report\")\n",
        "print(classification_report(y_test, y_pred_rf))"
      ]
    },
    {
      "cell_type": "markdown",
      "metadata": {
        "id": "dwfiNqZVjeDV"
      },
      "source": [
        "# **Applying model to make a prediction**"
      ]
    },
    {
      "cell_type": "code",
      "execution_count": null,
      "metadata": {
        "id": "flGgxqSaj09P"
      },
      "outputs": [],
      "source": [
        "# logistic regression model\n",
        "y_lr_train_pred = lr.predict(X_train_scaled)\n",
        "y_lr_test_pred = lr.predict(X_test_scaled)"
      ]
    },
    {
      "cell_type": "code",
      "execution_count": null,
      "metadata": {
        "colab": {
          "base_uri": "https://localhost:8080/"
        },
        "id": "LNIq2Ht3j1Fi",
        "outputId": "b527aeba-3a55-4b1d-c147-2d7b55cb5d4e"
      },
      "outputs": [
        {
          "data": {
            "text/plain": [
              "array([1, 0, 1, 1, 0, 1, 1, 1, 0, 1, 1, 0, 1, 0, 0, 1, 1, 0, 1, 0, 1, 0,\n",
              "       0, 1, 1, 0, 0, 1, 1, 1, 0, 1, 0, 1, 1, 1, 0, 1, 1, 1, 1, 0, 0, 0,\n",
              "       1, 0, 0, 0, 0, 0, 1, 1, 1, 0, 1, 1, 0, 0, 1, 0, 1, 1, 1, 0, 1, 1,\n",
              "       0, 1, 0, 0, 0, 1, 1, 1, 0, 0, 0, 0, 1, 0, 1, 0, 0, 0, 1, 0, 1, 0,\n",
              "       1, 1, 1, 0, 1, 1, 0, 0, 0, 1, 1, 1, 0, 1, 1, 0, 1, 0, 1, 1, 0, 0,\n",
              "       0, 0, 1, 1, 1, 1, 1, 0, 0, 1, 1, 0, 0, 1, 1, 1, 1, 1, 1, 1, 0, 0,\n",
              "       0, 0, 0, 1, 0, 1, 0, 1, 0, 1, 0, 0, 0, 1, 1, 0, 1, 1, 1, 1, 0, 0,\n",
              "       1, 1, 1, 0, 0, 1, 0, 0, 0, 1, 1, 0, 0, 0, 0, 0, 1, 0, 1, 1, 0, 0,\n",
              "       1, 0, 1, 1, 1, 1, 0, 1, 1, 0, 1, 0, 0, 0, 0, 0, 0, 0, 1, 0, 1, 1,\n",
              "       1, 0, 1, 0, 1, 0, 0, 1, 1, 0, 1, 0, 1, 1, 1, 0, 0, 1, 1, 1, 0, 1,\n",
              "       0, 1, 0, 1, 0, 0, 1, 1, 1, 1, 0, 0, 0, 1, 1, 1, 1, 0, 1, 0, 1, 1,\n",
              "       0, 1, 1, 1, 1, 0, 0, 0, 0, 1, 0, 1, 1, 1, 1, 1, 0, 1, 0, 0, 1, 1,\n",
              "       1, 0, 0, 0, 1, 1, 1, 1, 1, 1, 0, 0, 1, 1, 1, 1, 0, 0, 0, 0, 0, 1,\n",
              "       1, 0, 1, 1, 0, 0, 1, 0, 1, 1, 1, 0, 1, 0, 1, 0, 0, 1, 0, 1, 0, 0,\n",
              "       1, 1, 1, 1, 0, 0, 1, 1, 0, 1, 0, 1, 0, 0, 1, 1, 1, 0, 1, 1, 0, 1,\n",
              "       1, 1, 0, 1, 1, 0, 1, 0, 0, 1, 0, 1, 1, 1, 1, 1, 0, 1, 1, 0, 1, 0,\n",
              "       0, 0, 1, 0, 0, 1, 0, 0, 1, 1, 0, 0, 0, 1, 1, 1, 1, 1, 1, 0, 1, 1,\n",
              "       0, 1, 1, 1, 1, 1, 0, 1, 1, 1, 1, 1, 1, 1, 0, 0, 1, 0, 0, 1, 0, 0,\n",
              "       0, 0, 1, 1, 1, 1, 1, 1, 0, 0, 0, 1, 0, 1, 1, 1, 0, 0, 0, 1, 0, 1,\n",
              "       0, 1, 0, 0, 1, 1, 0, 0, 1, 1, 1, 0, 1, 1, 0, 0, 0, 0, 1, 1, 1, 1,\n",
              "       0, 1, 1, 0, 1, 1, 1, 0, 1, 1, 0, 1, 0, 1, 1, 0, 0, 0, 1, 0, 0, 0,\n",
              "       0, 0, 1, 1, 1, 0, 1, 1, 1, 0, 0, 0, 0, 1, 1, 0, 1, 0, 0, 1, 0, 0,\n",
              "       0, 1, 1, 1, 0, 0, 1, 0, 0, 0, 0, 0, 0, 0, 1, 1, 1, 0, 0, 0, 1, 0,\n",
              "       0, 0, 0, 1, 0, 1, 0, 0, 1, 0, 0, 1, 1, 1, 1, 1, 0, 1, 1, 0, 0, 0,\n",
              "       1, 1, 1, 0, 1, 1, 0, 0, 0, 1, 0, 1, 1, 0, 1, 0, 1, 1, 0, 1, 1, 0,\n",
              "       1, 0, 1, 1, 1, 0, 1, 0, 1, 1, 1, 1, 1, 0, 1, 1, 1, 1, 1, 0, 0, 1,\n",
              "       1, 1, 1, 1, 0, 1, 1, 0, 0, 1, 1, 1, 1, 0, 1, 0, 1, 1, 1, 0, 1, 1,\n",
              "       0, 1, 0, 0, 1, 0, 0, 0, 1, 0, 1, 1, 1, 0, 0, 1, 0, 0, 0, 0, 0, 1,\n",
              "       1, 1, 0, 1, 0, 1, 1, 1, 1, 0, 1, 1, 1, 1, 0, 0, 1, 0, 1, 1, 0, 1,\n",
              "       0, 0, 0, 1, 1, 1, 0, 1, 1, 1, 0, 1, 1, 1, 0, 0, 1, 0, 0, 0, 1, 0,\n",
              "       1, 0, 1, 0, 1, 0, 0, 1, 1, 1, 1, 1, 1, 1, 0, 1, 1, 1, 0, 0, 1, 1,\n",
              "       0, 1, 1, 1, 0, 0, 0, 0, 1, 1, 1, 1, 1, 1, 0, 1, 0, 1, 1, 1, 1, 1,\n",
              "       1, 0, 0, 1, 1, 1, 0, 1, 0, 1, 1, 1, 1, 0, 1, 1, 1, 0, 0, 1, 0, 0,\n",
              "       0, 0, 1, 0, 1, 1, 1, 0])"
            ]
          },
          "execution_count": 162,
          "metadata": {},
          "output_type": "execute_result"
        }
      ],
      "source": [
        "y_lr_train_pred"
      ]
    },
    {
      "cell_type": "code",
      "execution_count": null,
      "metadata": {
        "colab": {
          "base_uri": "https://localhost:8080/"
        },
        "id": "4ssZ21RYj1JD",
        "outputId": "0be8bb5f-a735-4b97-d4df-ab2324464675"
      },
      "outputs": [
        {
          "data": {
            "text/plain": [
              "array([1, 1, 1, 1, 1, 0, 1, 0, 0, 1, 0, 1, 1, 1, 1, 0, 1, 0, 1, 1, 1, 0,\n",
              "       1, 0, 1, 1, 0, 1, 1, 0, 0, 0, 0, 0, 1, 1, 1, 1, 0, 0, 1, 1, 1, 0,\n",
              "       0, 0, 1, 0, 0, 1, 0, 1, 1, 0, 1, 0, 1, 0, 1, 0, 1, 1, 1, 0, 0, 1,\n",
              "       1, 1, 0, 1, 1, 0, 1, 1, 0, 1, 0, 1, 1, 1, 1, 1, 1, 1, 1, 1, 0, 0,\n",
              "       0, 0, 1, 1, 0, 1, 1, 1, 1, 1, 1, 1, 1, 0, 1, 0, 1, 0, 0, 1, 1, 0,\n",
              "       0, 1, 0, 0, 0, 0, 1, 0, 0, 1, 1, 1, 1, 0, 1, 0, 1, 0, 1, 1, 0, 1,\n",
              "       0, 1, 1, 1, 1, 1, 0, 1, 1, 0, 0, 1, 1, 0, 0, 1, 0, 1, 1, 0, 0, 0,\n",
              "       0, 1, 0, 1, 1, 1, 0, 1, 1, 0, 1, 1, 0, 1, 1, 1, 0, 1, 1, 1, 1, 1,\n",
              "       0, 0, 1, 1, 1, 0, 0, 1])"
            ]
          },
          "execution_count": 163,
          "metadata": {},
          "output_type": "execute_result"
        }
      ],
      "source": [
        "y_lr_test_pred"
      ]
    },
    {
      "cell_type": "code",
      "execution_count": null,
      "metadata": {
        "id": "XmIUrOJ_KhrZ"
      },
      "outputs": [],
      "source": [
        "# input value for test patient\n",
        "# I used index number for patient instead of typing out binary numbers\n",
        "test_patient = X_test.loc[3, ['Age', 'Sex', 'RestingBP', 'Cholesterol', 'FastingBS', 'MaxHR',\n",
        "       'Oldpeak', 'ChestPainType_ASY', 'ChestPainType_ATA',\n",
        "       'ChestPainType_NAP', 'ChestPainType_TA', 'RestingECG_LVH',\n",
        "       'RestingECG_Normal', 'RestingECG_ST', 'ExerciseAngina_N',\n",
        "       'ExerciseAngina_Y', 'ST_Slope_Down', 'ST_Slope_Flat', 'ST_Slope_Up']].values.reshape(1, -1)"
      ]
    },
    {
      "cell_type": "code",
      "execution_count": null,
      "metadata": {
        "colab": {
          "base_uri": "https://localhost:8080/"
        },
        "id": "iIAjWAnfJxUj",
        "outputId": "81427a37-3eec-492f-c393-19d8e975bfa6"
      },
      "outputs": [
        {
          "name": "stdout",
          "output_type": "stream",
          "text": [
            "Low risk\n"
          ]
        }
      ],
      "source": [
        "\n",
        "# # Make prediction\n",
        "predicted_label = clf.predict(test_patient)\n",
        "\n",
        "# Map numerical label to meaningful category\n",
        "if predicted_label == 0:\n",
        "    print(\"Low risk\")\n",
        "else:\n",
        "    print(\"High risk\")"
      ]
    },
    {
      "cell_type": "code",
      "execution_count": null,
      "metadata": {
        "colab": {
          "base_uri": "https://localhost:8080/"
        },
        "id": "L7_wqZXt7moe",
        "outputId": "0f150582-9777-48cf-c60b-1d9348ba4eb7"
      },
      "outputs": [
        {
          "name": "stdout",
          "output_type": "stream",
          "text": [
            "Test Accuracy of SVM Algorithm: 0.90%\n"
          ]
        }
      ],
      "source": [
        "# support vector machine model can accurately predict 91% of heart disease\n",
        "accuracies['SVM'] = acc\n",
        "print(\"Test Accuracy of SVM Algorithm: {:.2f}%\".format(acc))"
      ]
    },
    {
      "cell_type": "markdown",
      "metadata": {
        "id": "mzWskGT1Cv3w"
      },
      "source": [
        "# **Evaluate Model Performance**"
      ]
    },
    {
      "cell_type": "code",
      "execution_count": null,
      "metadata": {
        "id": "Wi85TMqyihz7"
      },
      "outputs": [],
      "source": [
        "lr_results = pd.DataFrame(['Linear regression', lr_accuracy, lr_precision, lr_recall, lr_f1]).transpose()\n",
        "lr_results.columns = ['Algorithms', 'Accuracy', 'Precision', 'Recall', 'F1-Scort']\n"
      ]
    },
    {
      "cell_type": "code",
      "execution_count": null,
      "metadata": {
        "id": "bitMsvkuih15"
      },
      "outputs": [],
      "source": [
        "clf_results = pd.DataFrame(['Support Vector Machine', clf_accuracy, clf_precision, clf_recall, clf_f1]).transpose()\n",
        "clf_results.columns = ['Algorithms', 'Accuracy', 'Precision', 'Recall', 'F1-Scort']"
      ]
    },
    {
      "cell_type": "code",
      "execution_count": null,
      "metadata": {
        "id": "kCiGbaBWih4B"
      },
      "outputs": [],
      "source": [
        "dtc_results = pd.DataFrame(['Decision Tree Model', dtc_accuracy, dtc_precision, dtc_recall, dtc_f1]).transpose()\n",
        "dtc_results.columns = ['Algorithms', 'Accuracy', 'Precision', 'Recall', 'F1-Scort']"
      ]
    },
    {
      "cell_type": "code",
      "execution_count": null,
      "metadata": {
        "id": "2-msrbnOiiCk"
      },
      "outputs": [],
      "source": [
        "rf_results = pd.DataFrame(['Random Forest Classification', rf_accuracy, rf_precision, rf_recall, rf_f1]).transpose()\n",
        "rf_results.columns = ['Algorithms', 'Accuracy', 'Precision', 'Recall', 'F1-Scort']"
      ]
    },
    {
      "cell_type": "markdown",
      "metadata": {
        "id": "8IQleW0-oEht"
      },
      "source": [
        "# **Visualization of models performance**"
      ]
    },
    {
      "cell_type": "code",
      "execution_count": null,
      "metadata": {
        "colab": {
          "base_uri": "https://localhost:8080/",
          "height": 175
        },
        "id": "zhBTdZQ_iiE_",
        "outputId": "68981bb8-2cc1-469c-e41c-97211da0778b"
      },
      "outputs": [
        {
          "data": {
            "text/html": [
              "\n",
              "  <div id=\"df-cd0dd8bb-7a5b-4f4b-86e8-3046491c3e6e\" class=\"colab-df-container\">\n",
              "    <div>\n",
              "<style scoped>\n",
              "    .dataframe tbody tr th:only-of-type {\n",
              "        vertical-align: middle;\n",
              "    }\n",
              "\n",
              "    .dataframe tbody tr th {\n",
              "        vertical-align: top;\n",
              "    }\n",
              "\n",
              "    .dataframe thead th {\n",
              "        text-align: right;\n",
              "    }\n",
              "</style>\n",
              "<table border=\"1\" class=\"dataframe\">\n",
              "  <thead>\n",
              "    <tr style=\"text-align: right;\">\n",
              "      <th></th>\n",
              "      <th>Algorithms</th>\n",
              "      <th>Accuracy</th>\n",
              "      <th>Precision</th>\n",
              "      <th>Recall</th>\n",
              "      <th>F1-Scort</th>\n",
              "    </tr>\n",
              "  </thead>\n",
              "  <tbody>\n",
              "    <tr>\n",
              "      <th>0</th>\n",
              "      <td>Linear regression</td>\n",
              "      <td>0.896739</td>\n",
              "      <td>0.90991</td>\n",
              "      <td>0.918182</td>\n",
              "      <td>0.914027</td>\n",
              "    </tr>\n",
              "    <tr>\n",
              "      <th>1</th>\n",
              "      <td>Support Vector Machine</td>\n",
              "      <td>0.907609</td>\n",
              "      <td>0.918919</td>\n",
              "      <td>0.927273</td>\n",
              "      <td>0.923077</td>\n",
              "    </tr>\n",
              "    <tr>\n",
              "      <th>2</th>\n",
              "      <td>Decision Tree Model</td>\n",
              "      <td>0.782609</td>\n",
              "      <td>0.888889</td>\n",
              "      <td>0.727273</td>\n",
              "      <td>0.8</td>\n",
              "    </tr>\n",
              "    <tr>\n",
              "      <th>3</th>\n",
              "      <td>Random Forest Classification</td>\n",
              "      <td>0.896739</td>\n",
              "      <td>0.902655</td>\n",
              "      <td>0.927273</td>\n",
              "      <td>0.914798</td>\n",
              "    </tr>\n",
              "  </tbody>\n",
              "</table>\n",
              "</div>\n",
              "    <div class=\"colab-df-buttons\">\n",
              "\n",
              "  <div class=\"colab-df-container\">\n",
              "    <button class=\"colab-df-convert\" onclick=\"convertToInteractive('df-cd0dd8bb-7a5b-4f4b-86e8-3046491c3e6e')\"\n",
              "            title=\"Convert this dataframe to an interactive table.\"\n",
              "            style=\"display:none;\">\n",
              "\n",
              "  <svg xmlns=\"http://www.w3.org/2000/svg\" height=\"24px\" viewBox=\"0 -960 960 960\">\n",
              "    <path d=\"M120-120v-720h720v720H120Zm60-500h600v-160H180v160Zm220 220h160v-160H400v160Zm0 220h160v-160H400v160ZM180-400h160v-160H180v160Zm440 0h160v-160H620v160ZM180-180h160v-160H180v160Zm440 0h160v-160H620v160Z\"/>\n",
              "  </svg>\n",
              "    </button>\n",
              "\n",
              "  <style>\n",
              "    .colab-df-container {\n",
              "      display:flex;\n",
              "      gap: 12px;\n",
              "    }\n",
              "\n",
              "    .colab-df-convert {\n",
              "      background-color: #E8F0FE;\n",
              "      border: none;\n",
              "      border-radius: 50%;\n",
              "      cursor: pointer;\n",
              "      display: none;\n",
              "      fill: #1967D2;\n",
              "      height: 32px;\n",
              "      padding: 0 0 0 0;\n",
              "      width: 32px;\n",
              "    }\n",
              "\n",
              "    .colab-df-convert:hover {\n",
              "      background-color: #E2EBFA;\n",
              "      box-shadow: 0px 1px 2px rgba(60, 64, 67, 0.3), 0px 1px 3px 1px rgba(60, 64, 67, 0.15);\n",
              "      fill: #174EA6;\n",
              "    }\n",
              "\n",
              "    .colab-df-buttons div {\n",
              "      margin-bottom: 4px;\n",
              "    }\n",
              "\n",
              "    [theme=dark] .colab-df-convert {\n",
              "      background-color: #3B4455;\n",
              "      fill: #D2E3FC;\n",
              "    }\n",
              "\n",
              "    [theme=dark] .colab-df-convert:hover {\n",
              "      background-color: #434B5C;\n",
              "      box-shadow: 0px 1px 3px 1px rgba(0, 0, 0, 0.15);\n",
              "      filter: drop-shadow(0px 1px 2px rgba(0, 0, 0, 0.3));\n",
              "      fill: #FFFFFF;\n",
              "    }\n",
              "  </style>\n",
              "\n",
              "    <script>\n",
              "      const buttonEl =\n",
              "        document.querySelector('#df-cd0dd8bb-7a5b-4f4b-86e8-3046491c3e6e button.colab-df-convert');\n",
              "      buttonEl.style.display =\n",
              "        google.colab.kernel.accessAllowed ? 'block' : 'none';\n",
              "\n",
              "      async function convertToInteractive(key) {\n",
              "        const element = document.querySelector('#df-cd0dd8bb-7a5b-4f4b-86e8-3046491c3e6e');\n",
              "        const dataTable =\n",
              "          await google.colab.kernel.invokeFunction('convertToInteractive',\n",
              "                                                    [key], {});\n",
              "        if (!dataTable) return;\n",
              "\n",
              "        const docLinkHtml = 'Like what you see? Visit the ' +\n",
              "          '<a target=\"_blank\" href=https://colab.research.google.com/notebooks/data_table.ipynb>data table notebook</a>'\n",
              "          + ' to learn more about interactive tables.';\n",
              "        element.innerHTML = '';\n",
              "        dataTable['output_type'] = 'display_data';\n",
              "        await google.colab.output.renderOutput(dataTable, element);\n",
              "        const docLink = document.createElement('div');\n",
              "        docLink.innerHTML = docLinkHtml;\n",
              "        element.appendChild(docLink);\n",
              "      }\n",
              "    </script>\n",
              "  </div>\n",
              "\n",
              "\n",
              "<div id=\"df-e0a95ada-2fed-4e4c-af2f-e79898d5e2a9\">\n",
              "  <button class=\"colab-df-quickchart\" onclick=\"quickchart('df-e0a95ada-2fed-4e4c-af2f-e79898d5e2a9')\"\n",
              "            title=\"Suggest charts\"\n",
              "            style=\"display:none;\">\n",
              "\n",
              "<svg xmlns=\"http://www.w3.org/2000/svg\" height=\"24px\"viewBox=\"0 0 24 24\"\n",
              "     width=\"24px\">\n",
              "    <g>\n",
              "        <path d=\"M19 3H5c-1.1 0-2 .9-2 2v14c0 1.1.9 2 2 2h14c1.1 0 2-.9 2-2V5c0-1.1-.9-2-2-2zM9 17H7v-7h2v7zm4 0h-2V7h2v10zm4 0h-2v-4h2v4z\"/>\n",
              "    </g>\n",
              "</svg>\n",
              "  </button>\n",
              "\n",
              "<style>\n",
              "  .colab-df-quickchart {\n",
              "      --bg-color: #E8F0FE;\n",
              "      --fill-color: #1967D2;\n",
              "      --hover-bg-color: #E2EBFA;\n",
              "      --hover-fill-color: #174EA6;\n",
              "      --disabled-fill-color: #AAA;\n",
              "      --disabled-bg-color: #DDD;\n",
              "  }\n",
              "\n",
              "  [theme=dark] .colab-df-quickchart {\n",
              "      --bg-color: #3B4455;\n",
              "      --fill-color: #D2E3FC;\n",
              "      --hover-bg-color: #434B5C;\n",
              "      --hover-fill-color: #FFFFFF;\n",
              "      --disabled-bg-color: #3B4455;\n",
              "      --disabled-fill-color: #666;\n",
              "  }\n",
              "\n",
              "  .colab-df-quickchart {\n",
              "    background-color: var(--bg-color);\n",
              "    border: none;\n",
              "    border-radius: 50%;\n",
              "    cursor: pointer;\n",
              "    display: none;\n",
              "    fill: var(--fill-color);\n",
              "    height: 32px;\n",
              "    padding: 0;\n",
              "    width: 32px;\n",
              "  }\n",
              "\n",
              "  .colab-df-quickchart:hover {\n",
              "    background-color: var(--hover-bg-color);\n",
              "    box-shadow: 0 1px 2px rgba(60, 64, 67, 0.3), 0 1px 3px 1px rgba(60, 64, 67, 0.15);\n",
              "    fill: var(--button-hover-fill-color);\n",
              "  }\n",
              "\n",
              "  .colab-df-quickchart-complete:disabled,\n",
              "  .colab-df-quickchart-complete:disabled:hover {\n",
              "    background-color: var(--disabled-bg-color);\n",
              "    fill: var(--disabled-fill-color);\n",
              "    box-shadow: none;\n",
              "  }\n",
              "\n",
              "  .colab-df-spinner {\n",
              "    border: 2px solid var(--fill-color);\n",
              "    border-color: transparent;\n",
              "    border-bottom-color: var(--fill-color);\n",
              "    animation:\n",
              "      spin 1s steps(1) infinite;\n",
              "  }\n",
              "\n",
              "  @keyframes spin {\n",
              "    0% {\n",
              "      border-color: transparent;\n",
              "      border-bottom-color: var(--fill-color);\n",
              "      border-left-color: var(--fill-color);\n",
              "    }\n",
              "    20% {\n",
              "      border-color: transparent;\n",
              "      border-left-color: var(--fill-color);\n",
              "      border-top-color: var(--fill-color);\n",
              "    }\n",
              "    30% {\n",
              "      border-color: transparent;\n",
              "      border-left-color: var(--fill-color);\n",
              "      border-top-color: var(--fill-color);\n",
              "      border-right-color: var(--fill-color);\n",
              "    }\n",
              "    40% {\n",
              "      border-color: transparent;\n",
              "      border-right-color: var(--fill-color);\n",
              "      border-top-color: var(--fill-color);\n",
              "    }\n",
              "    60% {\n",
              "      border-color: transparent;\n",
              "      border-right-color: var(--fill-color);\n",
              "    }\n",
              "    80% {\n",
              "      border-color: transparent;\n",
              "      border-right-color: var(--fill-color);\n",
              "      border-bottom-color: var(--fill-color);\n",
              "    }\n",
              "    90% {\n",
              "      border-color: transparent;\n",
              "      border-bottom-color: var(--fill-color);\n",
              "    }\n",
              "  }\n",
              "</style>\n",
              "\n",
              "  <script>\n",
              "    async function quickchart(key) {\n",
              "      const quickchartButtonEl =\n",
              "        document.querySelector('#' + key + ' button');\n",
              "      quickchartButtonEl.disabled = true;  // To prevent multiple clicks.\n",
              "      quickchartButtonEl.classList.add('colab-df-spinner');\n",
              "      try {\n",
              "        const charts = await google.colab.kernel.invokeFunction(\n",
              "            'suggestCharts', [key], {});\n",
              "      } catch (error) {\n",
              "        console.error('Error during call to suggestCharts:', error);\n",
              "      }\n",
              "      quickchartButtonEl.classList.remove('colab-df-spinner');\n",
              "      quickchartButtonEl.classList.add('colab-df-quickchart-complete');\n",
              "    }\n",
              "    (() => {\n",
              "      let quickchartButtonEl =\n",
              "        document.querySelector('#df-e0a95ada-2fed-4e4c-af2f-e79898d5e2a9 button');\n",
              "      quickchartButtonEl.style.display =\n",
              "        google.colab.kernel.accessAllowed ? 'block' : 'none';\n",
              "    })();\n",
              "  </script>\n",
              "</div>\n",
              "    </div>\n",
              "  </div>\n"
            ],
            "text/plain": [
              "                     Algorithms  Accuracy Precision    Recall  F1-Scort\n",
              "0             Linear regression  0.896739   0.90991  0.918182  0.914027\n",
              "1        Support Vector Machine  0.907609  0.918919  0.927273  0.923077\n",
              "2           Decision Tree Model  0.782609  0.888889  0.727273       0.8\n",
              "3  Random Forest Classification  0.896739  0.902655  0.927273  0.914798"
            ]
          },
          "execution_count": 196,
          "metadata": {},
          "output_type": "execute_result"
        }
      ],
      "source": [
        "df_models = pd.concat([lr_results, clf_results, dtc_results, rf_results], axis=0)\n",
        "df_models.reset_index(drop=True)\n"
      ]
    },
    {
      "cell_type": "code",
      "execution_count": null,
      "metadata": {
        "colab": {
          "base_uri": "https://localhost:8080/",
          "height": 465
        },
        "id": "sC6bl40-C032",
        "outputId": "9516468f-cf3f-4e13-e4bd-d9fe3f94a86b"
      },
      "outputs": [
        {
          "data": {
            "image/png": "[encoded data removed]",
            "text/plain": [
              "<Figure size 1200x500 with 1 Axes>"
            ]
          },
          "metadata": {},
          "output_type": "display_data"
        }
      ],
      "source": [
        "\n",
        "accuracies = {\"Linear Regression\": 89.67, \"Support Vector Machine\": 90.76, \"Decision Tree Classification\": 78.26, \"Random Forest Calssification\": 89.67}\n",
        "colors = [\"blue\", \"green\", \"orange\", \"purple\"]\n",
        "\n",
        "sns.set_style(\"whitegrid\")\n",
        "plt.figure(figsize=(12,5))\n",
        "plt.yticks(np.arange(0,100,10))\n",
        "plt.ylabel(\"Accuracy %\")\n",
        "plt.xlabel(\"Algorithms\")\n",
        "sns.barplot(x=list(accuracies.keys()), y=list(accuracies.values()), palette=colors)\n",
        "plt.show()"
      ]
    },
    {
      "cell_type": "code",
      "execution_count": null,
      "metadata": {
        "id": "ApIThlZOC1no"
      },
      "outputs": [],
      "source": []
    },
    {
      "cell_type": "markdown",
      "metadata": {
        "id": "qPJSRIPmJarC"
      },
      "source": [
        "# **Generate and Compare Confusion Metrix** "
      ]
    },
    {
      "cell_type": "code",
      "execution_count": null,
      "metadata": {
        "id": "LnJKpI0KJbI9"
      },
      "outputs": [],
      "source": [
        "from sklearn.metrics import confusion_matrix"
      ]
    },
    {
      "cell_type": "code",
      "execution_count": null,
      "metadata": {
        "colab": {
          "base_uri": "https://localhost:8080/",
          "height": 1000
        },
        "id": "aFNC3s-iJbg1",
        "outputId": "beb00244-ccfb-4f00-82e0-d6a678d5b83c"
      },
      "outputs": [
        {
          "data": {
            "image/png": "[encoded data removed]",
            "text/plain": [
              "<Figure size 1200x1000 with 8 Axes>"
            ]
          },
          "metadata": {},
          "output_type": "display_data"
        }
      ],
      "source": [
        "# Logistic Regression Confusion Matrix\n",
        "lr_pred = lr.predict(X_test_scaled)\n",
        "lr_cm = confusion_matrix(y_test, lr_pred)\n",
        "\n",
        "# SVM Confusion Matrix\n",
        "svm_pred = clf.predict(X_test_scaled)\n",
        "svm_cm = confusion_matrix(y_test, svm_pred)\n",
        "\n",
        "# Decision Tree Confusion Matrix\n",
        "dtc_pred = dtc.predict(X_test_scaled)\n",
        "dtc_cm = confusion_matrix(y_test, dtc_pred)\n",
        "\n",
        "# Random Forest Confusion Matrix\n",
        "rf_pred = rf.predict(X_test_scaled)\n",
        "rf_cm = confusion_matrix(y_test, rf_pred)\n",
        "\n",
        "# Plotting Confusion Matrices\n",
        "fig, axes = plt.subplots(2, 2, figsize=(12, 10))\n",
        "\n",
        "# Logistic Regression\n",
        "sns.heatmap(lr_cm, annot=True, fmt='d', cmap='Blues', ax=axes[0, 0])\n",
        "axes[0, 0].set_title('Logistic Regression Confusion Matrix')\n",
        "\n",
        "# SVM\n",
        "sns.heatmap(svm_cm, annot=True, fmt='d', cmap='Greens', ax=axes[0, 1])\n",
        "axes[0, 1].set_title('SVM Confusion Matrix')\n",
        "\n",
        "# Decision Tree\n",
        "sns.heatmap(dtc_cm, annot=True, fmt='d', cmap='Oranges', ax=axes[1, 0])\n",
        "axes[1, 0].set_title('Decision Tree Confusion Matrix')\n",
        "\n",
        "# Random Forest\n",
        "sns.heatmap(rf_cm, annot=True, fmt='d', cmap='Purples', ax=axes[1, 1])\n",
        "axes[1, 1].set_title('Random Forest Confusion Matrix')\n",
        "\n",
        "plt.tight_layout()\n",
        "plt.show()"
      ]
    },
    {
      "cell_type": "markdown",
      "metadata": {
        "id": "kzEqtDZg5L4Y"
      },
      "source": [
        "# **Deep Learning**"
      ]
    },
    {
      "cell_type": "code",
      "execution_count": null,
      "metadata": {
        "colab": {
          "base_uri": "https://localhost:8080/"
        },
        "id": "Ls3qCoz4eA24",
        "outputId": "4ffa3e3b-0827-42e5-de24-36a2a9fe7a6c"
      },
      "outputs": [
        {
          "name": "stdout",
          "output_type": "stream",
          "text": [
            "Model: \"sequential_1\"\n",
            "_________________________________________________________________\n",
            " Layer (type)                Output Shape              Param #   \n",
            "=================================================================\n",
            " dense_3 (Dense)             (None, 80)                1600      \n",
            "                                                                 \n",
            " dense_4 (Dense)             (None, 40)                3240      \n",
            "                                                                 \n",
            " dense_5 (Dense)             (None, 1)                 41        \n",
            "                                                                 \n",
            "=================================================================\n",
            "Total params: 4881 (19.07 KB)\n",
            "Trainable params: 4881 (19.07 KB)\n",
            "Non-trainable params: 0 (0.00 Byte)\n",
            "_________________________________________________________________\n"
          ]
        }
      ],
      "source": [
        "# Define the model - deep neural net, i.e., the number of input features and hidden nodes for each layer.\n",
        "input_features = X_train.shape[1]\n",
        "\n",
        "\n",
        "nn = tf.keras.models.Sequential()\n",
        "\n",
        "# First hidden layer\n",
        "nn.add(tf.keras.layers.Dense(units=80, activation='relu', input_dim=input_features))\n",
        "\n",
        "# Second hidden layer\n",
        "nn.add(tf.keras.layers.Dense(units=40, activation='relu'))\n",
        "\n",
        "# Output layer\n",
        "nn.add(tf.keras.layers.Dense(units=1, activation='sigmoid'))\n",
        "\n",
        "# Check the structure of the model\n",
        "nn.summary()"
      ]
    },
    {
      "cell_type": "code",
      "execution_count": null,
      "metadata": {
        "id": "pepRQZF3eA4w"
      },
      "outputs": [],
      "source": [
        "# compile the model\n",
        "nn.compile(loss='binary_crossentropy', optimizer='adam', metrics=['accuracy'])"
      ]
    },
    {
      "cell_type": "code",
      "execution_count": null,
      "metadata": {
        "colab": {
          "base_uri": "https://localhost:8080/"
        },
        "id": "0N52VpqAeA6z",
        "outputId": "70f5e415-65fc-43b8-b887-2305ad6e39ae"
      },
      "outputs": [
        {
          "name": "stdout",
          "output_type": "stream",
          "text": [
            "Epoch 1/50\n",
            "23/23 [==============================] - 1s 2ms/step - loss: 0.5619 - accuracy: 0.7548\n",
            "Epoch 2/50\n",
            "23/23 [==============================] - 0s 2ms/step - loss: 0.3977 - accuracy: 0.8597\n",
            "Epoch 3/50\n",
            "23/23 [==============================] - 0s 2ms/step - loss: 0.3536 - accuracy: 0.8651\n",
            "Epoch 4/50\n",
            "23/23 [==============================] - 0s 3ms/step - loss: 0.3350 - accuracy: 0.8651\n",
            "Epoch 5/50\n",
            "23/23 [==============================] - 0s 2ms/step - loss: 0.3223 - accuracy: 0.8747\n",
            "Epoch 6/50\n",
            "23/23 [==============================] - 0s 2ms/step - loss: 0.3124 - accuracy: 0.8747\n",
            "Epoch 7/50\n",
            "23/23 [==============================] - 0s 2ms/step - loss: 0.3054 - accuracy: 0.8787\n",
            "Epoch 8/50\n",
            "23/23 [==============================] - 0s 2ms/step - loss: 0.2967 - accuracy: 0.8774\n",
            "Epoch 9/50\n",
            "23/23 [==============================] - 0s 2ms/step - loss: 0.2908 - accuracy: 0.8828\n",
            "Epoch 10/50\n",
            "23/23 [==============================] - 0s 2ms/step - loss: 0.2837 - accuracy: 0.8869\n",
            "Epoch 11/50\n",
            "23/23 [==============================] - 0s 2ms/step - loss: 0.2776 - accuracy: 0.8937\n",
            "Epoch 12/50\n",
            "23/23 [==============================] - 0s 2ms/step - loss: 0.2713 - accuracy: 0.8978\n",
            "Epoch 13/50\n",
            "23/23 [==============================] - 0s 2ms/step - loss: 0.2654 - accuracy: 0.8992\n",
            "Epoch 14/50\n",
            "23/23 [==============================] - 0s 2ms/step - loss: 0.2597 - accuracy: 0.8978\n",
            "Epoch 15/50\n",
            "23/23 [==============================] - 0s 2ms/step - loss: 0.2551 - accuracy: 0.9074\n",
            "Epoch 16/50\n",
            "23/23 [==============================] - 0s 2ms/step - loss: 0.2500 - accuracy: 0.9074\n",
            "Epoch 17/50\n",
            "23/23 [==============================] - 0s 2ms/step - loss: 0.2456 - accuracy: 0.9087\n",
            "Epoch 18/50\n",
            "23/23 [==============================] - 0s 2ms/step - loss: 0.2410 - accuracy: 0.9087\n",
            "Epoch 19/50\n",
            "23/23 [==============================] - 0s 2ms/step - loss: 0.2379 - accuracy: 0.9101\n",
            "Epoch 20/50\n",
            "23/23 [==============================] - 0s 2ms/step - loss: 0.2333 - accuracy: 0.9169\n",
            "Epoch 21/50\n",
            "23/23 [==============================] - 0s 2ms/step - loss: 0.2278 - accuracy: 0.9142\n",
            "Epoch 22/50\n",
            "23/23 [==============================] - 0s 2ms/step - loss: 0.2236 - accuracy: 0.9183\n",
            "Epoch 23/50\n",
            "23/23 [==============================] - 0s 2ms/step - loss: 0.2215 - accuracy: 0.9196\n",
            "Epoch 24/50\n",
            "23/23 [==============================] - 0s 2ms/step - loss: 0.2163 - accuracy: 0.9169\n",
            "Epoch 25/50\n",
            "23/23 [==============================] - 0s 2ms/step - loss: 0.2105 - accuracy: 0.9223\n",
            "Epoch 26/50\n",
            "23/23 [==============================] - 0s 2ms/step - loss: 0.2053 - accuracy: 0.9196\n",
            "Epoch 27/50\n",
            "23/23 [==============================] - 0s 2ms/step - loss: 0.2049 - accuracy: 0.9196\n",
            "Epoch 28/50\n",
            "23/23 [==============================] - 0s 2ms/step - loss: 0.1995 - accuracy: 0.9319\n",
            "Epoch 29/50\n",
            "23/23 [==============================] - 0s 2ms/step - loss: 0.2001 - accuracy: 0.9210\n",
            "Epoch 30/50\n",
            "23/23 [==============================] - 0s 2ms/step - loss: 0.1931 - accuracy: 0.9305\n",
            "Epoch 31/50\n",
            "23/23 [==============================] - 0s 2ms/step - loss: 0.1906 - accuracy: 0.9292\n",
            "Epoch 32/50\n",
            "23/23 [==============================] - 0s 2ms/step - loss: 0.1890 - accuracy: 0.9305\n",
            "Epoch 33/50\n",
            "23/23 [==============================] - 0s 2ms/step - loss: 0.1821 - accuracy: 0.9278\n",
            "Epoch 34/50\n",
            "23/23 [==============================] - 0s 3ms/step - loss: 0.1777 - accuracy: 0.9332\n",
            "Epoch 35/50\n",
            "23/23 [==============================] - 0s 2ms/step - loss: 0.1749 - accuracy: 0.9346\n",
            "Epoch 36/50\n",
            "23/23 [==============================] - 0s 2ms/step - loss: 0.1752 - accuracy: 0.9346\n",
            "Epoch 37/50\n",
            "23/23 [==============================] - 0s 2ms/step - loss: 0.1684 - accuracy: 0.9387\n",
            "Epoch 38/50\n",
            "23/23 [==============================] - 0s 2ms/step - loss: 0.1689 - accuracy: 0.9360\n",
            "Epoch 39/50\n",
            "23/23 [==============================] - 0s 2ms/step - loss: 0.1613 - accuracy: 0.9414\n",
            "Epoch 40/50\n",
            "23/23 [==============================] - 0s 2ms/step - loss: 0.1589 - accuracy: 0.9360\n",
            "Epoch 41/50\n",
            "23/23 [==============================] - 0s 2ms/step - loss: 0.1592 - accuracy: 0.9373\n",
            "Epoch 42/50\n",
            "23/23 [==============================] - 0s 2ms/step - loss: 0.1535 - accuracy: 0.9428\n",
            "Epoch 43/50\n",
            "23/23 [==============================] - 0s 2ms/step - loss: 0.1503 - accuracy: 0.9428\n",
            "Epoch 44/50\n",
            "23/23 [==============================] - 0s 2ms/step - loss: 0.1459 - accuracy: 0.9510\n",
            "Epoch 45/50\n",
            "23/23 [==============================] - 0s 2ms/step - loss: 0.1449 - accuracy: 0.9496\n",
            "Epoch 46/50\n",
            "23/23 [==============================] - 0s 2ms/step - loss: 0.1393 - accuracy: 0.9455\n",
            "Epoch 47/50\n",
            "23/23 [==============================] - 0s 2ms/step - loss: 0.1374 - accuracy: 0.9564\n",
            "Epoch 48/50\n",
            "23/23 [==============================] - 0s 2ms/step - loss: 0.1350 - accuracy: 0.9523\n",
            "Epoch 49/50\n",
            "23/23 [==============================] - 0s 2ms/step - loss: 0.1305 - accuracy: 0.9578\n",
            "Epoch 50/50\n",
            "23/23 [==============================] - 0s 2ms/step - loss: 0.1284 - accuracy: 0.9564\n"
          ]
        }
      ],
      "source": [
        "# Train the model\n",
        "train_model = nn.fit(X_train_scaled, y_train, epochs=50)"
      ]
    },
    {
      "cell_type": "code",
      "execution_count": null,
      "metadata": {
        "colab": {
          "base_uri": "https://localhost:8080/"
        },
        "id": "tXWdW1rkeA8v",
        "outputId": "697a3cca-bca6-4f7e-aa7e-99011ed8f540"
      },
      "outputs": [
        {
          "name": "stdout",
          "output_type": "stream",
          "text": [
            "6/6 - 0s - loss: 0.4746 - accuracy: 0.8641 - 232ms/epoch - 39ms/step\n",
            "Loss: 0.4745792746543884, Accuracy: 0.864130437374115\n"
          ]
        }
      ],
      "source": [
        "# Evaluate the model using the test data\n",
        "model_loss, model_accuracy = nn.evaluate(X_test_scaled,y_test,verbose=2)\n",
        "print(f\"Loss: {model_loss}, Accuracy: {model_accuracy}\")"
      ]
    },
    {
      "cell_type": "markdown",
      "metadata": {
        "id": "sOu1Sp-xZftT"
      },
      "source": [
        "\n",
        "**Additional Attempt 01 : Deep Learning** (reja)"
      ]
    },
    {
      "cell_type": "code",
      "execution_count": null,
      "metadata": {
        "colab": {
          "base_uri": "https://localhost:8080/"
        },
        "id": "oOBhDDOcZ7D-",
        "outputId": "ee87e64e-c258-4c0d-8fbd-844b762a6ef1"
      },
      "outputs": [
        {
          "name": "stdout",
          "output_type": "stream",
          "text": [
            "Model: \"sequential_3\"\n",
            "_________________________________________________________________\n",
            " Layer (type)                Output Shape              Param #   \n",
            "=================================================================\n",
            " dense_10 (Dense)            (None, 50)                1000      \n",
            "                                                                 \n",
            " dense_11 (Dense)            (None, 25)                1275      \n",
            "                                                                 \n",
            " dense_12 (Dense)            (None, 10)                260       \n",
            "                                                                 \n",
            " dense_13 (Dense)            (None, 1)                 11        \n",
            "                                                                 \n",
            "=================================================================\n",
            "Total params: 2546 (9.95 KB)\n",
            "Trainable params: 2546 (9.95 KB)\n",
            "Non-trainable params: 0 (0.00 Byte)\n",
            "_________________________________________________________________\n"
          ]
        }
      ],
      "source": [
        "# Define the model - deep neural net, i.e., the number of input features and hidden nodes for each layer.\n",
        "input_features = X_train.shape[1]\n",
        "hidden_nodes_layer1 = 50\n",
        "hidden_nodes_layer2 = 25\n",
        "hidden_nodes_layer3 = 10\n",
        "\n",
        "\n",
        "nn = tf.keras.models.Sequential()\n",
        "\n",
        "# First hidden layer\n",
        "nn.add(tf.keras.layers.Dense(units=hidden_nodes_layer1, activation='relu', input_dim=input_features))\n",
        "\n",
        "# Second hidden layer\n",
        "nn.add(tf.keras.layers.Dense(units=hidden_nodes_layer2, activation='relu'))\n",
        "\n",
        "# Third hidden layer\n",
        "nn.add(tf.keras.layers.Dense(units=hidden_nodes_layer3, activation='relu'))\n",
        "\n",
        "# Output layer\n",
        "nn.add(tf.keras.layers.Dense(units=1, activation='sigmoid'))\n",
        "\n",
        "# Check the structure of the model\n",
        "nn.summary()"
      ]
    },
    {
      "cell_type": "code",
      "execution_count": null,
      "metadata": {
        "id": "j4YaFsJkkqq0"
      },
      "outputs": [],
      "source": [
        "# compile the model\n",
        "nn.compile(loss='binary_crossentropy', optimizer='adam', metrics=['accuracy'])"
      ]
    },
    {
      "cell_type": "code",
      "execution_count": null,
      "metadata": {
        "colab": {
          "base_uri": "https://localhost:8080/"
        },
        "id": "wh4cawG6kqsk",
        "outputId": "30fe3651-08f3-40f0-e84e-1ab09766148a"
      },
      "outputs": [
        {
          "name": "stdout",
          "output_type": "stream",
          "text": [
            "Epoch 1/25\n",
            "23/23 [==============================] - 1s 3ms/step - loss: 0.6540 - accuracy: 0.5450\n",
            "Epoch 2/25\n",
            "23/23 [==============================] - 0s 2ms/step - loss: 0.6053 - accuracy: 0.5872\n",
            "Epoch 3/25\n",
            "23/23 [==============================] - 0s 2ms/step - loss: 0.5627 - accuracy: 0.7084\n",
            "Epoch 4/25\n",
            "23/23 [==============================] - 0s 2ms/step - loss: 0.5286 - accuracy: 0.8025\n",
            "Epoch 5/25\n",
            "23/23 [==============================] - 0s 2ms/step - loss: 0.4981 - accuracy: 0.8338\n",
            "Epoch 6/25\n",
            "23/23 [==============================] - 0s 3ms/step - loss: 0.4646 - accuracy: 0.8324\n",
            "Epoch 7/25\n",
            "23/23 [==============================] - 0s 2ms/step - loss: 0.4306 - accuracy: 0.8474\n",
            "Epoch 8/25\n",
            "23/23 [==============================] - 0s 3ms/step - loss: 0.3944 - accuracy: 0.8460\n",
            "Epoch 9/25\n",
            "23/23 [==============================] - 0s 2ms/step - loss: 0.3634 - accuracy: 0.8501\n",
            "Epoch 10/25\n",
            "23/23 [==============================] - 0s 2ms/step - loss: 0.3459 - accuracy: 0.8597\n",
            "Epoch 11/25\n",
            "23/23 [==============================] - 0s 2ms/step - loss: 0.3329 - accuracy: 0.8597\n",
            "Epoch 12/25\n",
            "23/23 [==============================] - 0s 2ms/step - loss: 0.3253 - accuracy: 0.8624\n",
            "Epoch 13/25\n",
            "23/23 [==============================] - 0s 2ms/step - loss: 0.3195 - accuracy: 0.8719\n",
            "Epoch 14/25\n",
            "23/23 [==============================] - 0s 2ms/step - loss: 0.3131 - accuracy: 0.8747\n",
            "Epoch 15/25\n",
            "23/23 [==============================] - 0s 2ms/step - loss: 0.3075 - accuracy: 0.8774\n",
            "Epoch 16/25\n",
            "23/23 [==============================] - 0s 2ms/step - loss: 0.3025 - accuracy: 0.8801\n",
            "Epoch 17/25\n",
            "23/23 [==============================] - 0s 2ms/step - loss: 0.2964 - accuracy: 0.8869\n",
            "Epoch 18/25\n",
            "23/23 [==============================] - 0s 2ms/step - loss: 0.2925 - accuracy: 0.8869\n",
            "Epoch 19/25\n",
            "23/23 [==============================] - 0s 2ms/step - loss: 0.2904 - accuracy: 0.8842\n",
            "Epoch 20/25\n",
            "23/23 [==============================] - 0s 2ms/step - loss: 0.2870 - accuracy: 0.8910\n",
            "Epoch 21/25\n",
            "23/23 [==============================] - 0s 2ms/step - loss: 0.2842 - accuracy: 0.8910\n",
            "Epoch 22/25\n",
            "23/23 [==============================] - 0s 3ms/step - loss: 0.2809 - accuracy: 0.8937\n",
            "Epoch 23/25\n",
            "23/23 [==============================] - 0s 3ms/step - loss: 0.2785 - accuracy: 0.8951\n",
            "Epoch 24/25\n",
            "23/23 [==============================] - 0s 2ms/step - loss: 0.2752 - accuracy: 0.8978\n",
            "Epoch 25/25\n",
            "23/23 [==============================] - 0s 2ms/step - loss: 0.2730 - accuracy: 0.8965\n"
          ]
        }
      ],
      "source": [
        "# Train the model\n",
        "train_model = nn.fit(X_train_scaled, y_train, epochs=25)"
      ]
    },
    {
      "cell_type": "code",
      "execution_count": null,
      "metadata": {
        "colab": {
          "base_uri": "https://localhost:8080/"
        },
        "id": "cG9Xix6WkqvG",
        "outputId": "e29b8b96-3267-4cae-d548-3719f4251858"
      },
      "outputs": [
        {
          "name": "stdout",
          "output_type": "stream",
          "text": [
            "6/6 - 0s - loss: 0.6176 - accuracy: 0.8696 - 29ms/epoch - 5ms/step\n",
            "Loss: 0.6175777316093445, Accuracy: 0.8695651888847351\n"
          ]
        }
      ],
      "source": [
        "# Evaluate the model using the test data\n",
        "model_loss, model_accuracy = nn.evaluate(X_test_scaled,y_test,verbose=2)\n",
        "print(f\"Loss: {model_loss}, Accuracy: {model_accuracy}\")"
      ]
    },
    {
      "cell_type": "markdown",
      "metadata": {
        "id": "KwicBkSfboqg"
      },
      "source": [
        "**Additional Attempt 02 : Deep Learning** (reja)"
      ]
    },
    {
      "cell_type": "code",
      "execution_count": null,
      "metadata": {
        "colab": {
          "base_uri": "https://localhost:8080/"
        },
        "id": "_9d7d-c4cALZ",
        "outputId": "e7aa979e-683d-47f0-b844-ab2122fff082"
      },
      "outputs": [
        {
          "name": "stdout",
          "output_type": "stream",
          "text": [
            "Model: \"sequential_6\"\n",
            "_________________________________________________________________\n",
            " Layer (type)                Output Shape              Param #   \n",
            "=================================================================\n",
            " dense_24 (Dense)            (None, 15)                300       \n",
            "                                                                 \n",
            " dense_25 (Dense)            (None, 10)                160       \n",
            "                                                                 \n",
            " dense_26 (Dense)            (None, 7)                 77        \n",
            "                                                                 \n",
            " dense_27 (Dense)            (None, 5)                 40        \n",
            "                                                                 \n",
            " dense_28 (Dense)            (None, 1)                 6         \n",
            "                                                                 \n",
            "=================================================================\n",
            "Total params: 583 (2.28 KB)\n",
            "Trainable params: 583 (2.28 KB)\n",
            "Non-trainable params: 0 (0.00 Byte)\n",
            "_________________________________________________________________\n"
          ]
        }
      ],
      "source": [
        "# Define the model - deep neural net, i.e., the number of input features and hidden nodes for each layer.\n",
        "input_features = X_train.shape[1]\n",
        "hidden_nodes_layer1 = 15\n",
        "hidden_nodes_layer2 = 10\n",
        "hidden_nodes_layer3 = 7\n",
        "hidden_nodes_layer4 = 5\n",
        "\n",
        "nn = tf.keras.models.Sequential()\n",
        "\n",
        "# First hidden layer\n",
        "nn.add(tf.keras.layers.Dense(units=hidden_nodes_layer1, activation='relu', input_dim=input_features))\n",
        "\n",
        "# Second hidden layer\n",
        "nn.add(tf.keras.layers.Dense(units=hidden_nodes_layer2, activation='relu'))\n",
        "\n",
        "# Third hidden layer\n",
        "nn.add(tf.keras.layers.Dense(units=hidden_nodes_layer3, activation='relu'))\n",
        "\n",
        "# Fourth hidden layer\n",
        "nn.add(tf.keras.layers.Dense(units=hidden_nodes_layer4, activation='relu'))\n",
        "\n",
        "# Output layer\n",
        "nn.add(tf.keras.layers.Dense(units=1, activation='sigmoid'))\n",
        "\n",
        "# Check the structure of the model\n",
        "nn.summary()"
      ]
    },
    {
      "cell_type": "code",
      "execution_count": null,
      "metadata": {
        "id": "K_NPbzPlcBBE"
      },
      "outputs": [],
      "source": [
        "# compile the model\n",
        "nn.compile(loss='binary_crossentropy', optimizer='adam', metrics=['accuracy'])"
      ]
    },
    {
      "cell_type": "code",
      "execution_count": null,
      "metadata": {
        "colab": {
          "base_uri": "https://localhost:8080/"
        },
        "id": "qBwKQ4bbcA3c",
        "outputId": "de6eec7a-7c28-41b9-cfb2-61680b578291"
      },
      "outputs": [
        {
          "name": "stdout",
          "output_type": "stream",
          "text": [
            "Epoch 1/50\n",
            "23/23 [==============================] - 2s 4ms/step - loss: 0.6686 - accuracy: 0.6335\n",
            "Epoch 2/50\n",
            "23/23 [==============================] - 0s 4ms/step - loss: 0.6176 - accuracy: 0.7221\n",
            "Epoch 3/50\n",
            "23/23 [==============================] - 0s 3ms/step - loss: 0.5595 - accuracy: 0.7480\n",
            "Epoch 4/50\n",
            "23/23 [==============================] - 0s 3ms/step - loss: 0.4949 - accuracy: 0.7943\n",
            "Epoch 5/50\n",
            "23/23 [==============================] - 0s 4ms/step - loss: 0.4347 - accuracy: 0.8215\n",
            "Epoch 6/50\n",
            "23/23 [==============================] - 0s 4ms/step - loss: 0.3945 - accuracy: 0.8515\n",
            "Epoch 7/50\n",
            "23/23 [==============================] - 0s 3ms/step - loss: 0.3720 - accuracy: 0.8638\n",
            "Epoch 8/50\n",
            "23/23 [==============================] - 0s 3ms/step - loss: 0.3581 - accuracy: 0.8597\n",
            "Epoch 9/50\n",
            "23/23 [==============================] - 0s 3ms/step - loss: 0.3505 - accuracy: 0.8678\n",
            "Epoch 10/50\n",
            "23/23 [==============================] - 0s 3ms/step - loss: 0.3418 - accuracy: 0.8719\n",
            "Epoch 11/50\n",
            "23/23 [==============================] - 0s 3ms/step - loss: 0.3353 - accuracy: 0.8692\n",
            "Epoch 12/50\n",
            "23/23 [==============================] - 0s 3ms/step - loss: 0.3304 - accuracy: 0.8719\n",
            "Epoch 13/50\n",
            "23/23 [==============================] - 0s 3ms/step - loss: 0.3255 - accuracy: 0.8774\n",
            "Epoch 14/50\n",
            "23/23 [==============================] - 0s 4ms/step - loss: 0.3229 - accuracy: 0.8787\n",
            "Epoch 15/50\n",
            "23/23 [==============================] - 0s 3ms/step - loss: 0.3184 - accuracy: 0.8747\n",
            "Epoch 16/50\n",
            "23/23 [==============================] - 0s 3ms/step - loss: 0.3150 - accuracy: 0.8774\n",
            "Epoch 17/50\n",
            "23/23 [==============================] - 0s 3ms/step - loss: 0.3119 - accuracy: 0.8801\n",
            "Epoch 18/50\n",
            "23/23 [==============================] - 0s 3ms/step - loss: 0.3078 - accuracy: 0.8787\n",
            "Epoch 19/50\n",
            "23/23 [==============================] - 0s 3ms/step - loss: 0.3043 - accuracy: 0.8828\n",
            "Epoch 20/50\n",
            "23/23 [==============================] - 0s 3ms/step - loss: 0.3025 - accuracy: 0.8801\n",
            "Epoch 21/50\n",
            "23/23 [==============================] - 0s 3ms/step - loss: 0.2992 - accuracy: 0.8856\n",
            "Epoch 22/50\n",
            "23/23 [==============================] - 0s 3ms/step - loss: 0.2966 - accuracy: 0.8896\n",
            "Epoch 23/50\n",
            "23/23 [==============================] - 0s 3ms/step - loss: 0.2933 - accuracy: 0.8883\n",
            "Epoch 24/50\n",
            "23/23 [==============================] - 0s 3ms/step - loss: 0.2906 - accuracy: 0.8869\n",
            "Epoch 25/50\n",
            "23/23 [==============================] - 0s 3ms/step - loss: 0.2886 - accuracy: 0.8896\n",
            "Epoch 26/50\n",
            "23/23 [==============================] - 0s 3ms/step - loss: 0.2860 - accuracy: 0.8924\n",
            "Epoch 27/50\n",
            "23/23 [==============================] - 0s 3ms/step - loss: 0.2837 - accuracy: 0.8883\n",
            "Epoch 28/50\n",
            "23/23 [==============================] - 0s 3ms/step - loss: 0.2814 - accuracy: 0.8937\n",
            "Epoch 29/50\n",
            "23/23 [==============================] - 0s 3ms/step - loss: 0.2784 - accuracy: 0.8896\n",
            "Epoch 30/50\n",
            "23/23 [==============================] - 0s 3ms/step - loss: 0.2765 - accuracy: 0.8937\n",
            "Epoch 31/50\n",
            "23/23 [==============================] - 0s 3ms/step - loss: 0.2730 - accuracy: 0.8965\n",
            "Epoch 32/50\n",
            "23/23 [==============================] - 0s 3ms/step - loss: 0.2722 - accuracy: 0.8978\n",
            "Epoch 33/50\n",
            "23/23 [==============================] - 0s 4ms/step - loss: 0.2687 - accuracy: 0.8992\n",
            "Epoch 34/50\n",
            "23/23 [==============================] - 0s 3ms/step - loss: 0.2684 - accuracy: 0.9005\n",
            "Epoch 35/50\n",
            "23/23 [==============================] - 0s 4ms/step - loss: 0.2642 - accuracy: 0.9019\n",
            "Epoch 36/50\n",
            "23/23 [==============================] - 0s 3ms/step - loss: 0.2625 - accuracy: 0.9019\n",
            "Epoch 37/50\n",
            "23/23 [==============================] - 0s 3ms/step - loss: 0.2590 - accuracy: 0.9060\n",
            "Epoch 38/50\n",
            "23/23 [==============================] - 0s 3ms/step - loss: 0.2565 - accuracy: 0.9060\n",
            "Epoch 39/50\n",
            "23/23 [==============================] - 0s 3ms/step - loss: 0.2542 - accuracy: 0.9060\n",
            "Epoch 40/50\n",
            "23/23 [==============================] - 0s 3ms/step - loss: 0.2523 - accuracy: 0.9060\n",
            "Epoch 41/50\n",
            "23/23 [==============================] - 0s 3ms/step - loss: 0.2491 - accuracy: 0.9074\n",
            "Epoch 42/50\n",
            "23/23 [==============================] - 0s 3ms/step - loss: 0.2473 - accuracy: 0.9074\n",
            "Epoch 43/50\n",
            "23/23 [==============================] - 0s 3ms/step - loss: 0.2475 - accuracy: 0.9101\n",
            "Epoch 44/50\n",
            "23/23 [==============================] - 0s 3ms/step - loss: 0.2462 - accuracy: 0.9074\n",
            "Epoch 45/50\n",
            "23/23 [==============================] - 0s 3ms/step - loss: 0.2421 - accuracy: 0.9128\n",
            "Epoch 46/50\n",
            "23/23 [==============================] - 0s 2ms/step - loss: 0.2405 - accuracy: 0.9128\n",
            "Epoch 47/50\n",
            "23/23 [==============================] - 0s 2ms/step - loss: 0.2406 - accuracy: 0.9114\n",
            "Epoch 48/50\n",
            "23/23 [==============================] - 0s 2ms/step - loss: 0.2386 - accuracy: 0.9155\n",
            "Epoch 49/50\n",
            "23/23 [==============================] - 0s 2ms/step - loss: 0.2360 - accuracy: 0.9155\n",
            "Epoch 50/50\n",
            "23/23 [==============================] - 0s 2ms/step - loss: 0.2339 - accuracy: 0.9169\n"
          ]
        }
      ],
      "source": [
        "# Train the model\n",
        "train_model = nn.fit(X_train_scaled, y_train, epochs=50)"
      ]
    },
    {
      "cell_type": "code",
      "execution_count": null,
      "metadata": {
        "colab": {
          "base_uri": "https://localhost:8080/"
        },
        "id": "oSm0zthJcAt7",
        "outputId": "16ffa8bb-7a22-43aa-dbc7-8a2dfd4a00d6"
      },
      "outputs": [
        {
          "name": "stdout",
          "output_type": "stream",
          "text": [
            "6/6 - 0s - loss: 0.2974 - accuracy: 0.9022 - 144ms/epoch - 24ms/step\n",
            "Loss: 0.29737624526023865, Accuracy: 0.9021739363670349\n"
          ]
        }
      ],
      "source": [
        "# Evaluate the model using the test data\n",
        "model_loss, model_accuracy = nn.evaluate(X_test_scaled,y_test,verbose=2)\n",
        "print(f\"Loss: {model_loss}, Accuracy: {model_accuracy}\")"
      ]
    },
    {
      "cell_type": "code",
      "execution_count": null,
      "metadata": {
        "id": "-J3BPi5zcAgW"
      },
      "outputs": [],
      "source": []
    }
  ],
  "metadata": {
    "colab": {
      "provenance": [],
      "toc_visible": true
    },
    "kernelspec": {
      "display_name": "Python 3",
      "name": "python3"
    },
    "language_info": {
      "name": "python"
    }
  },
  "nbformat": 4,
  "nbformat_minor": 0
}
